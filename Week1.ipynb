{
 "cells": [
  {
   "cell_type": "markdown",
   "id": "fad591d1-ce9f-4ff5-8aa2-15ed992a26c8",
   "metadata": {},
   "source": [
    "## EdX. Python for data science"
   ]
  },
  {
   "cell_type": "markdown",
   "id": "4b1dfe56-b998-49d9-8032-3208c69a75e7",
   "metadata": {},
   "source": [
    "Tutorial de Jupyter [https://www.youtube.com/watch?v=7wfPqAyYADY](https://www.youtube.com/watch?v=7wfPqAyYADY)"
   ]
  },
  {
   "cell_type": "markdown",
   "id": "7d4a2f49-a3a2-4236-84b4-281b78c33bfc",
   "metadata": {},
   "source": [
    "# Week 0"
   ]
  },
  {
   "cell_type": "markdown",
   "id": "aba15194-4215-4d2a-a173-cf4ed75a7f28",
   "metadata": {},
   "source": [
    "Esta semana es una semana de repaso de los conceptos básicos en Python. \n",
    "En esta semana, se incluyen los conceptos básicos que podemos usar en Spider, R o en Jupiter Labs."
   ]
  },
  {
   "cell_type": "markdown",
   "id": "1f29b8c1-c87d-4614-a4f0-a8b6661baf67",
   "metadata": {},
   "source": [
    "## Part 1: Objects and Methods"
   ]
  },
  {
   "cell_type": "markdown",
   "id": "05737cd5-7df8-4279-9929-f936ec9c607d",
   "metadata": {},
   "source": [
    "Para importar paquetes es necesario llamarlos como \"library\". Se les pone un alias para poder acortar las órdenes. Después, podemos utilizarlo para declarar dos arrays."
   ]
  },
  {
   "cell_type": "code",
   "execution_count": 2,
   "id": "ed09f869-73e5-45f9-83f8-8606da5199bf",
   "metadata": {},
   "outputs": [],
   "source": [
    "import numpy as np\n",
    "x = np.array([1,3,5])\n",
    "y = np.array([1,5,9,11])"
   ]
  },
  {
   "cell_type": "markdown",
   "id": "1d27c4a8-a5bf-48e9-b493-7308fcf4f64a",
   "metadata": {},
   "source": [
    "Para los objetos, hay propiedades (no llevan paréntesis) y funciones (que sí lo llevan)."
   ]
  },
  {
   "cell_type": "code",
   "execution_count": 3,
   "id": "1044f887-5195-4d70-b31e-2dd1fec1ad2e",
   "metadata": {},
   "outputs": [
    {
     "data": {
      "text/plain": [
       "3.0"
      ]
     },
     "execution_count": 3,
     "metadata": {},
     "output_type": "execute_result"
    }
   ],
   "source": [
    "x.mean()"
   ]
  },
  {
   "cell_type": "code",
   "execution_count": 4,
   "id": "81c5c906-8008-4c4d-8dcd-d0dccd894f17",
   "metadata": {},
   "outputs": [
    {
     "data": {
      "text/plain": [
       "6.5"
      ]
     },
     "execution_count": 4,
     "metadata": {},
     "output_type": "execute_result"
    }
   ],
   "source": [
    "y.mean()"
   ]
  },
  {
   "cell_type": "code",
   "execution_count": 5,
   "id": "4a02e4e4-7d3f-4bea-bd11-fef7a2f840cc",
   "metadata": {},
   "outputs": [
    {
     "data": {
      "text/plain": [
       "(3,)"
      ]
     },
     "execution_count": 5,
     "metadata": {},
     "output_type": "execute_result"
    }
   ],
   "source": [
    "x.shape"
   ]
  },
  {
   "cell_type": "code",
   "execution_count": 6,
   "id": "49e4978d-8bea-4af8-ab45-bb6689ac77e1",
   "metadata": {},
   "outputs": [
    {
     "data": {
      "text/plain": [
       "(4,)"
      ]
     },
     "execution_count": 6,
     "metadata": {},
     "output_type": "execute_result"
    }
   ],
   "source": [
    "y.shape"
   ]
  },
  {
   "cell_type": "markdown",
   "id": "7b4482f4-4d0d-44f0-94d4-b99f86bf3b1f",
   "metadata": {
    "tags": []
   },
   "source": [
    "### Modules and Methods"
   ]
  },
  {
   "cell_type": "markdown",
   "id": "edcdda40-c94b-4a59-88f3-a54ec86c9468",
   "metadata": {},
   "source": [
    "Review how to import modules using the example of the math module.\n",
    "Review object methods through examples using string methods.\n",
    "For example, we can import the math module by saying \"import math\". Este paquete incluye valores (sin paréntesis) y funciones o métodos (con paréntesis)."
   ]
  },
  {
   "cell_type": "code",
   "execution_count": 7,
   "id": "e5977f83-a173-4cc8-96b7-d497f8db8b26",
   "metadata": {},
   "outputs": [],
   "source": [
    "import math"
   ]
  },
  {
   "cell_type": "code",
   "execution_count": 8,
   "id": "cea4b30d-6369-475d-9438-108196303908",
   "metadata": {},
   "outputs": [
    {
     "data": {
      "text/plain": [
       "3.141592653589793"
      ]
     },
     "execution_count": 8,
     "metadata": {},
     "output_type": "execute_result"
    }
   ],
   "source": [
    "math.pi"
   ]
  },
  {
   "cell_type": "code",
   "execution_count": 9,
   "id": "44657ef7-84fc-4340-8e46-2ccd5aff3e0b",
   "metadata": {},
   "outputs": [
    {
     "data": {
      "text/plain": [
       "2.8284271247461903"
      ]
     },
     "execution_count": 9,
     "metadata": {},
     "output_type": "execute_result"
    }
   ],
   "source": [
    "math.sqrt(8)"
   ]
  },
  {
   "cell_type": "code",
   "execution_count": 10,
   "id": "397dee8b-5401-4800-88c3-dfa877c349aa",
   "metadata": {},
   "outputs": [
    {
     "data": {
      "text/plain": [
       "1.0"
      ]
     },
     "execution_count": 10,
     "metadata": {},
     "output_type": "execute_result"
    }
   ],
   "source": [
    "math.sin(math.pi/2)"
   ]
  },
  {
   "cell_type": "markdown",
   "id": "e828746b-4b64-445d-ab50-0a9fa4503252",
   "metadata": {},
   "source": [
    "También podemos pedirle a Python que nos importe solo una cosa concreta dentro de un paquete, por ejemplo, solo el valor de pi, desde el paquete math."
   ]
  },
  {
   "cell_type": "code",
   "execution_count": 11,
   "id": "d7592e82-180a-49d2-b4ad-a0aa3df37dee",
   "metadata": {},
   "outputs": [],
   "source": [
    "from math import pi"
   ]
  },
  {
   "cell_type": "markdown",
   "id": "d0d4cfc3-868c-45fa-9d93-3148199b2e17",
   "metadata": {},
   "source": [
    "### Namespaces"
   ]
  },
  {
   "cell_type": "markdown",
   "id": "4a53ae23-06ea-45cb-a378-f54afe24a069",
   "metadata": {},
   "source": [
    "Cada paquete tiene su propio espacio de nombres para prevenir que no entren en conflicto. Por ejemplo, podemos considerar la función `sqrt` que está tanto en el paquete `numpy` como en `math`. Aunque son lo mismo para algunas cosas, no lo son para otras.\n"
   ]
  },
  {
   "cell_type": "code",
   "execution_count": 12,
   "id": "e3ecd412-8386-4c90-97ec-05b3058ac05f",
   "metadata": {},
   "outputs": [
    {
     "data": {
      "text/plain": [
       "1.4142135623730951"
      ]
     },
     "execution_count": 12,
     "metadata": {},
     "output_type": "execute_result"
    }
   ],
   "source": [
    "np.sqrt(2)"
   ]
  },
  {
   "cell_type": "code",
   "execution_count": 13,
   "id": "4c51ec5e-5de0-48f9-9c8d-74de2c0184d8",
   "metadata": {},
   "outputs": [
    {
     "data": {
      "text/plain": [
       "1.4142135623730951"
      ]
     },
     "execution_count": 13,
     "metadata": {},
     "output_type": "execute_result"
    }
   ],
   "source": [
    "math.sqrt(2)"
   ]
  },
  {
   "cell_type": "code",
   "execution_count": 14,
   "id": "eba247a1-d595-40b4-a37d-22df47860fe4",
   "metadata": {},
   "outputs": [
    {
     "data": {
      "text/plain": [
       "array([1.        , 1.73205081, 2.23606798])"
      ]
     },
     "execution_count": 14,
     "metadata": {},
     "output_type": "execute_result"
    }
   ],
   "source": [
    "np.sqrt([1, 3, 5])"
   ]
  },
  {
   "cell_type": "code",
   "execution_count": 15,
   "id": "cd1581a4-a54b-4c07-a35a-597e3d15cecf",
   "metadata": {},
   "outputs": [
    {
     "ename": "TypeError",
     "evalue": "must be real number, not list",
     "output_type": "error",
     "traceback": [
      "\u001b[1;31m---------------------------------------------------------------------------\u001b[0m",
      "\u001b[1;31mTypeError\u001b[0m                                 Traceback (most recent call last)",
      "\u001b[1;32m~\\AppData\\Local\\Temp/ipykernel_20284/2854881764.py\u001b[0m in \u001b[0;36m<module>\u001b[1;34m\u001b[0m\n\u001b[1;32m----> 1\u001b[1;33m \u001b[0mmath\u001b[0m\u001b[1;33m.\u001b[0m\u001b[0msqrt\u001b[0m\u001b[1;33m(\u001b[0m\u001b[1;33m[\u001b[0m\u001b[1;36m1\u001b[0m\u001b[1;33m,\u001b[0m\u001b[1;36m3\u001b[0m\u001b[1;33m,\u001b[0m\u001b[1;36m5\u001b[0m\u001b[1;33m]\u001b[0m\u001b[1;33m)\u001b[0m\u001b[1;33m\u001b[0m\u001b[1;33m\u001b[0m\u001b[0m\n\u001b[0m",
      "\u001b[1;31mTypeError\u001b[0m: must be real number, not list"
     ]
    }
   ],
   "source": [
    "math.sqrt([1,3,5])"
   ]
  },
  {
   "cell_type": "markdown",
   "id": "a9b33d30-138f-4c30-9aff-d3fbdd0ef8c8",
   "metadata": {},
   "source": [
    "En el caso del paquete `math` no puede gestionar la lista."
   ]
  },
  {
   "cell_type": "markdown",
   "id": "27756855-86dd-41fb-99d3-c36bb7a01979",
   "metadata": {},
   "source": [
    "Con respecto a los tipos, con `type` nos da información y `dir` nos da todos los métodos asociados."
   ]
  },
  {
   "cell_type": "code",
   "execution_count": 16,
   "id": "7024bdbf-61b9-47cb-b3ee-7fe55962b6b8",
   "metadata": {},
   "outputs": [
    {
     "data": {
      "text/plain": [
       "str"
      ]
     },
     "execution_count": 16,
     "metadata": {},
     "output_type": "execute_result"
    }
   ],
   "source": [
    "name = \"Amy\"\n",
    "type(name)"
   ]
  },
  {
   "cell_type": "markdown",
   "id": "bd6c480a-d065-4876-bd8f-ceaf693e9842",
   "metadata": {},
   "source": [
    "dir(name)"
   ]
  },
  {
   "cell_type": "code",
   "execution_count": 18,
   "id": "defe46cf-e1b5-4358-8597-d3667b4aafec",
   "metadata": {},
   "outputs": [
    {
     "data": {
      "text/plain": [
       "'AMY'"
      ]
     },
     "execution_count": 18,
     "metadata": {},
     "output_type": "execute_result"
    }
   ],
   "source": [
    "name.upper()"
   ]
  },
  {
   "cell_type": "code",
   "execution_count": 19,
   "id": "5a28e9fd-b96e-4bad-91cb-2de3a9607ddd",
   "metadata": {},
   "outputs": [
    {
     "name": "stdout",
     "output_type": "stream",
     "text": [
      "No Python documentation found for 'AMY'.\n",
      "Use help() to get the interactive help utility.\n",
      "Use help(str) for help on the str class.\n",
      "\n"
     ]
    }
   ],
   "source": [
    "help(name.upper())"
   ]
  },
  {
   "cell_type": "code",
   "execution_count": 20,
   "id": "be44a0ca-1f8a-4476-883b-c64ad495cd24",
   "metadata": {},
   "outputs": [
    {
     "name": "stdout",
     "output_type": "stream",
     "text": [
      "Help on built-in function upper:\n",
      "\n",
      "upper() method of builtins.str instance\n",
      "    Return a copy of the string converted to uppercase.\n",
      "\n"
     ]
    }
   ],
   "source": [
    "help(name.upper)"
   ]
  },
  {
   "cell_type": "markdown",
   "id": "9367a10e-8bdc-4200-837d-a73148c158cc",
   "metadata": {},
   "source": [
    "nos tenemos que asegurar de que preguntamos por el método y no lo ejecutamos, poniendo comillas"
   ]
  },
  {
   "cell_type": "markdown",
   "id": "b29c5f5f-017e-41ec-afd7-a37ebcd33dda",
   "metadata": {},
   "source": [
    "### 1.1.4: Numbers and Basic Calculations"
   ]
  },
  {
   "cell_type": "markdown",
   "id": "fadf4faf-1ceb-42bc-8625-10690600d264",
   "metadata": {},
   "source": [
    "Hay tres tipos de números: integers, floating and complex"
   ]
  },
  {
   "cell_type": "code",
   "execution_count": 23,
   "id": "f7b4c83a-a1a3-487f-821e-5ddd48d2fd0b",
   "metadata": {},
   "outputs": [
    {
     "data": {
      "text/plain": [
       "157"
      ]
     },
     "execution_count": 23,
     "metadata": {},
     "output_type": "execute_result"
    }
   ],
   "source": [
    "123 + 34"
   ]
  },
  {
   "cell_type": "code",
   "execution_count": 24,
   "id": "8e98ca93-4ea3-4c6a-8082-5a2a987d74e9",
   "metadata": {},
   "outputs": [
    {
     "data": {
      "text/plain": [
       "4182"
      ]
     },
     "execution_count": 24,
     "metadata": {},
     "output_type": "execute_result"
    }
   ],
   "source": [
    "123 * 34"
   ]
  },
  {
   "cell_type": "code",
   "execution_count": 25,
   "id": "1ba243b6-9ec4-4558-b081-7af5fb22cd7e",
   "metadata": {},
   "outputs": [
    {
     "data": {
      "text/plain": [
       "113965602005968684136628000184496763088921243891670079405854808234118809"
      ]
     },
     "execution_count": 25,
     "metadata": {},
     "output_type": "execute_result"
    }
   ],
   "source": [
    "123 ** 34 # Potencia"
   ]
  },
  {
   "cell_type": "code",
   "execution_count": 26,
   "id": "26b0a10b-68cb-487d-b96f-c2780297efc0",
   "metadata": {},
   "outputs": [
    {
     "data": {
      "text/plain": [
       "1620587040956941648138019149580451751791408815399856486321490441109247948182424586279351114254310250315224788323786311669500132089069298414529660288106976602982481575115517659039676937215792244430911501885612662688416992686717328200977320302260955885381269342664172096749744471673079234192070637685985862233209574304353002629851987643653917374216965606822745486564254193753767014302447629358984177110313461027119984964280968057930149960424616733720937534603622415792139782775432552713446546030173370807309703695438668612465182771756069486081276652338983871828174818669246181083535832737714204071042647575817221083531373369980609786229210841674589483831544925259013707610623084601406585587279565582369167013054718062878333332586600713424499355185591117620317805507458980460318472255645115772821959956616697266218221035620477893952103627520039584916073573793895044821331887002489051332204443"
      ]
     },
     "execution_count": 26,
     "metadata": {},
     "output_type": "execute_result"
    }
   ],
   "source": [
    "123 ** 425 # python no tiene limitaciones en los números enteros que puede gestionar"
   ]
  },
  {
   "cell_type": "markdown",
   "id": "721e22e1-cdbc-41f8-bdaf-1514c14d0b2b",
   "metadata": {},
   "source": [
    "Es interesante que Python no tiene limitaciones en los números enteros que puede gestionar. Si hacemos la misma operación en R, podemos usar como comandos `123 ** 425` o `123^425` pero en ambos casos el resultado es el mismo, infinito `Inf`."
   ]
  },
  {
   "cell_type": "code",
   "execution_count": 27,
   "id": "5ecc5f51-08b0-4d11-93b9-1e68e9efd1da",
   "metadata": {},
   "outputs": [
    {
     "data": {
      "text/plain": [
       "0.8571428571428571"
      ]
     },
     "execution_count": 27,
     "metadata": {},
     "output_type": "execute_result"
    }
   ],
   "source": [
    "6/7"
   ]
  },
  {
   "cell_type": "code",
   "execution_count": 28,
   "id": "af7ee8c3-0979-4caa-bd5e-7c420a3049c7",
   "metadata": {},
   "outputs": [
    {
     "data": {
      "text/plain": [
       "0"
      ]
     },
     "execution_count": 28,
     "metadata": {},
     "output_type": "execute_result"
    }
   ],
   "source": [
    "6//7 # floor division"
   ]
  },
  {
   "cell_type": "code",
   "execution_count": 29,
   "id": "d04adeb3-f330-41e8-96f3-cad3dca9620f",
   "metadata": {},
   "outputs": [
    {
     "data": {
      "text/plain": [
       "2"
      ]
     },
     "execution_count": 29,
     "metadata": {},
     "output_type": "execute_result"
    }
   ],
   "source": [
    "15//7"
   ]
  },
  {
   "cell_type": "markdown",
   "id": "48c5c190-cdb2-476c-ae0b-33beedb676d1",
   "metadata": {},
   "source": [
    "Una cosa interesante en el Python interactivo es el **operador \"underscore \\_\"**  que simplemente devuelve el último valor que se ha almacenado."
   ]
  },
  {
   "cell_type": "code",
   "execution_count": 30,
   "id": "1bb0bb14-e3ba-423e-b15f-41731af3e39f",
   "metadata": {},
   "outputs": [
    {
     "data": {
      "text/plain": [
       "6.521739130434783"
      ]
     },
     "execution_count": 30,
     "metadata": {},
     "output_type": "execute_result"
    }
   ],
   "source": [
    "15/2.3"
   ]
  },
  {
   "cell_type": "code",
   "execution_count": 31,
   "id": "0bbff9dd-3b6c-40a0-8097-870917828699",
   "metadata": {},
   "outputs": [
    {
     "data": {
      "text/plain": [
       "6.521739130434783"
      ]
     },
     "execution_count": 31,
     "metadata": {},
     "output_type": "execute_result"
    }
   ],
   "source": [
    "_"
   ]
  },
  {
   "cell_type": "code",
   "execution_count": 32,
   "id": "70331242-b2e6-4042-851d-d40e01e84c83",
   "metadata": {},
   "outputs": [
    {
     "data": {
      "text/plain": [
       "15.0"
      ]
     },
     "execution_count": 32,
     "metadata": {},
     "output_type": "execute_result"
    }
   ],
   "source": [
    "_ * 2.3"
   ]
  },
  {
   "cell_type": "code",
   "execution_count": 33,
   "id": "84a7d2ca-d165-4f37-9eae-3e97b6627f11",
   "metadata": {},
   "outputs": [
    {
     "data": {
      "text/plain": [
       "20"
      ]
     },
     "execution_count": 33,
     "metadata": {},
     "output_type": "execute_result"
    }
   ],
   "source": [
    "10 * 2"
   ]
  },
  {
   "cell_type": "code",
   "execution_count": 34,
   "id": "ff27e9d8-a374-4f7c-b8ec-e0ec8c279196",
   "metadata": {},
   "outputs": [
    {
     "data": {
      "text/plain": [
       "25"
      ]
     },
     "execution_count": 34,
     "metadata": {},
     "output_type": "execute_result"
    }
   ],
   "source": [
    "_ + 5"
   ]
  },
  {
   "cell_type": "code",
   "execution_count": 35,
   "id": "34ba43b3-7631-4153-9236-a58b239ac43a",
   "metadata": {},
   "outputs": [
    {
     "data": {
      "text/plain": [
       "625"
      ]
     },
     "execution_count": 35,
     "metadata": {},
     "output_type": "execute_result"
    }
   ],
   "source": [
    "_ ** 2"
   ]
  },
  {
   "cell_type": "code",
   "execution_count": 37,
   "id": "28feda57-5009-4cd3-83d7-ce91fef1bcf9",
   "metadata": {},
   "outputs": [],
   "source": [
    "import math"
   ]
  },
  {
   "cell_type": "code",
   "execution_count": 38,
   "id": "9919b15a-53fd-4750-bf43-96ac33b5d9d4",
   "metadata": {},
   "outputs": [
    {
     "data": {
      "text/plain": [
       "120"
      ]
     },
     "execution_count": 38,
     "metadata": {},
     "output_type": "execute_result"
    }
   ],
   "source": [
    "math.factorial(5)"
   ]
  },
  {
   "cell_type": "code",
   "execution_count": 39,
   "id": "8ee095af-f882-41dc-9bc5-f4f236bc33dc",
   "metadata": {},
   "outputs": [
    {
     "data": {
      "text/plain": [
       "24"
      ]
     },
     "execution_count": 39,
     "metadata": {},
     "output_type": "execute_result"
    }
   ],
   "source": [
    "math.factorial(4)"
   ]
  },
  {
   "cell_type": "markdown",
   "id": "ad9fdcb7-c881-4484-a50b-653b0ddd47ca",
   "metadata": {},
   "source": [
    "### 1.5. Random Choice"
   ]
  },
  {
   "cell_type": "markdown",
   "id": "00612a90-2f09-4b23-990c-061311c9f985",
   "metadata": {},
   "source": [
    "Para implementar números aleatorios, lo primero es importar el módulon `random`"
   ]
  },
  {
   "cell_type": "code",
   "execution_count": 40,
   "id": "e0cf73e9-950e-4fcf-9d71-d3afd5846cbb",
   "metadata": {},
   "outputs": [],
   "source": [
    "import random"
   ]
  },
  {
   "cell_type": "code",
   "execution_count": 42,
   "id": "a1b963b0-f53f-49f1-a297-53028db23b94",
   "metadata": {},
   "outputs": [
    {
     "data": {
      "text/plain": [
       "66"
      ]
     },
     "execution_count": 42,
     "metadata": {},
     "output_type": "execute_result"
    }
   ],
   "source": [
    "random.choice([2, 44, 55, 66]) #elige uno de ellos"
   ]
  },
  {
   "cell_type": "code",
   "execution_count": 43,
   "id": "06eba74c-392d-4cf0-a31e-8f33718f9763",
   "metadata": {},
   "outputs": [
    {
     "data": {
      "text/plain": [
       "'adios'"
      ]
     },
     "execution_count": 43,
     "metadata": {},
     "output_type": "execute_result"
    }
   ],
   "source": [
    "random.choice([\"hola\", \"adios\", \"muérete\"])"
   ]
  },
  {
   "cell_type": "markdown",
   "id": "567898a7-1a27-4531-95f1-cc861dbec810",
   "metadata": {},
   "source": [
    "### 1.1.6: Expressions and Booleans"
   ]
  },
  {
   "cell_type": "markdown",
   "id": "583b9ec3-c509-4d3b-a227-debb827d8122",
   "metadata": {},
   "source": [
    "Los booleans verdadero y falso se ponen con mayúsculas en Python"
   ]
  },
  {
   "cell_type": "code",
   "execution_count": 44,
   "id": "60a7475f-72a0-4730-918d-f621adde90a2",
   "metadata": {},
   "outputs": [
    {
     "data": {
      "text/plain": [
       "True"
      ]
     },
     "execution_count": 44,
     "metadata": {},
     "output_type": "execute_result"
    }
   ],
   "source": [
    "True"
   ]
  },
  {
   "cell_type": "code",
   "execution_count": 45,
   "id": "4aed62d1-0ea1-41c1-801f-03a041c7801f",
   "metadata": {},
   "outputs": [
    {
     "data": {
      "text/plain": [
       "False"
      ]
     },
     "execution_count": 45,
     "metadata": {},
     "output_type": "execute_result"
    }
   ],
   "source": [
    "False"
   ]
  },
  {
   "cell_type": "code",
   "execution_count": 46,
   "id": "ead988b3-e8ce-48ce-973e-6a11908ad795",
   "metadata": {},
   "outputs": [
    {
     "data": {
      "text/plain": [
       "False"
      ]
     },
     "execution_count": 46,
     "metadata": {},
     "output_type": "execute_result"
    }
   ],
   "source": [
    "True == False"
   ]
  },
  {
   "cell_type": "code",
   "execution_count": 47,
   "id": "f9b798c0-b929-4aa4-be25-b75b23dc68f5",
   "metadata": {},
   "outputs": [
    {
     "data": {
      "text/plain": [
       "bool"
      ]
     },
     "execution_count": 47,
     "metadata": {},
     "output_type": "execute_result"
    }
   ],
   "source": [
    "type(False)"
   ]
  },
  {
   "cell_type": "markdown",
   "id": "6c0407a1-4a45-49e6-9478-d5d13bdcefa3",
   "metadata": {},
   "source": [
    "Hay tres operadores booleanos: And, Or Not"
   ]
  },
  {
   "cell_type": "code",
   "execution_count": 48,
   "id": "30f2d1d1-7dd8-4e24-ad0f-8e36ec3b1bec",
   "metadata": {},
   "outputs": [
    {
     "data": {
      "text/plain": [
       "True"
      ]
     },
     "execution_count": 48,
     "metadata": {},
     "output_type": "execute_result"
    }
   ],
   "source": [
    "True or False"
   ]
  },
  {
   "cell_type": "code",
   "execution_count": 49,
   "id": "6bca1469-46d9-41c3-983a-bdaaed7db540",
   "metadata": {},
   "outputs": [
    {
     "data": {
      "text/plain": [
       "False"
      ]
     },
     "execution_count": 49,
     "metadata": {},
     "output_type": "execute_result"
    }
   ],
   "source": [
    "False or False"
   ]
  },
  {
   "cell_type": "code",
   "execution_count": 50,
   "id": "8e6b33c8-75ec-4085-bd94-9e000bf94376",
   "metadata": {},
   "outputs": [
    {
     "data": {
      "text/plain": [
       "True"
      ]
     },
     "execution_count": 50,
     "metadata": {},
     "output_type": "execute_result"
    }
   ],
   "source": [
    "(2 == 4-2) or (5 == 10)"
   ]
  },
  {
   "cell_type": "code",
   "execution_count": 51,
   "id": "3cf1805b-77c0-441b-9066-416aac730914",
   "metadata": {},
   "outputs": [
    {
     "data": {
      "text/plain": [
       "False"
      ]
     },
     "execution_count": 51,
     "metadata": {},
     "output_type": "execute_result"
    }
   ],
   "source": [
    "True and False"
   ]
  },
  {
   "cell_type": "code",
   "execution_count": 53,
   "id": "e720c8ac-2e9a-4b65-9869-eed2f6b9e7ac",
   "metadata": {},
   "outputs": [
    {
     "data": {
      "text/plain": [
       "False"
      ]
     },
     "execution_count": 53,
     "metadata": {},
     "output_type": "execute_result"
    }
   ],
   "source": [
    "not True"
   ]
  },
  {
   "cell_type": "code",
   "execution_count": 54,
   "id": "9cadcea5-7037-480d-81a5-8a6029161149",
   "metadata": {},
   "outputs": [
    {
     "data": {
      "text/plain": [
       "True"
      ]
     },
     "execution_count": 54,
     "metadata": {},
     "output_type": "execute_result"
    }
   ],
   "source": [
    "not False"
   ]
  },
  {
   "cell_type": "markdown",
   "id": "7d9caf61-250f-45f9-8791-ccbb3bc1e8ee",
   "metadata": {},
   "source": [
    "Python tiene **ocho** operadores de comparación"
   ]
  },
  {
   "cell_type": "code",
   "execution_count": 55,
   "id": "5b3b1478-224a-4980-966b-63bef1be5bd5",
   "metadata": {},
   "outputs": [
    {
     "data": {
      "text/plain": [
       "True"
      ]
     },
     "execution_count": 55,
     "metadata": {},
     "output_type": "execute_result"
    }
   ],
   "source": [
    "2 < 4"
   ]
  },
  {
   "cell_type": "code",
   "execution_count": 57,
   "id": "0441aab6-a168-4858-b4f3-dfea47624f4a",
   "metadata": {},
   "outputs": [
    {
     "data": {
      "text/plain": [
       "True"
      ]
     },
     "execution_count": 57,
     "metadata": {},
     "output_type": "execute_result"
    }
   ],
   "source": [
    "2 <= 2"
   ]
  },
  {
   "cell_type": "code",
   "execution_count": 58,
   "id": "5a41fa60-b369-4c0c-921b-005429324985",
   "metadata": {},
   "outputs": [
    {
     "data": {
      "text/plain": [
       "True"
      ]
     },
     "execution_count": 58,
     "metadata": {},
     "output_type": "execute_result"
    }
   ],
   "source": [
    "2 == 2"
   ]
  },
  {
   "cell_type": "code",
   "execution_count": 59,
   "id": "f7245430-bef0-4526-8a37-ec0c2ae36bb8",
   "metadata": {},
   "outputs": [
    {
     "data": {
      "text/plain": [
       "False"
      ]
     },
     "execution_count": 59,
     "metadata": {},
     "output_type": "execute_result"
    }
   ],
   "source": [
    "2 != 2"
   ]
  },
  {
   "cell_type": "code",
   "execution_count": 60,
   "id": "37458998-866a-4412-90c5-b4212f4ffa77",
   "metadata": {},
   "outputs": [
    {
     "data": {
      "text/plain": [
       "True"
      ]
     },
     "execution_count": 60,
     "metadata": {},
     "output_type": "execute_result"
    }
   ],
   "source": [
    "2> 1"
   ]
  },
  {
   "cell_type": "code",
   "execution_count": 61,
   "id": "6a64e425-59e0-44fd-ae7c-eab8defcf57c",
   "metadata": {},
   "outputs": [
    {
     "data": {
      "text/plain": [
       "True"
      ]
     },
     "execution_count": 61,
     "metadata": {},
     "output_type": "execute_result"
    }
   ],
   "source": [
    "2 >= 1"
   ]
  },
  {
   "cell_type": "code",
   "execution_count": 62,
   "id": "fbfd9e28-c609-4f48-b3f6-9e25cb29afa1",
   "metadata": {},
   "outputs": [
    {
     "data": {
      "text/plain": [
       "False"
      ]
     },
     "execution_count": 62,
     "metadata": {},
     "output_type": "execute_result"
    }
   ],
   "source": [
    "[2,3] == [3,3]"
   ]
  },
  {
   "cell_type": "code",
   "execution_count": 63,
   "id": "6ac67f2f-97b5-445f-835c-e72863fa73e2",
   "metadata": {},
   "outputs": [
    {
     "data": {
      "text/plain": [
       "True"
      ]
     },
     "execution_count": 63,
     "metadata": {},
     "output_type": "execute_result"
    }
   ],
   "source": [
    "[2,3] == [2,3]"
   ]
  },
  {
   "cell_type": "code",
   "execution_count": 65,
   "id": "4737d9b7-ec3f-4477-81f0-e856c64a7500",
   "metadata": {},
   "outputs": [
    {
     "data": {
      "text/plain": [
       "False"
      ]
     },
     "execution_count": 65,
     "metadata": {},
     "output_type": "execute_result"
    }
   ],
   "source": [
    "[2,3] is [2,3] # ¿es el mismo objeto? -> no"
   ]
  },
  {
   "cell_type": "code",
   "execution_count": 66,
   "id": "a71f5c40-54eb-4e3c-abc4-61a095c2aee6",
   "metadata": {},
   "outputs": [
    {
     "name": "stderr",
     "output_type": "stream",
     "text": [
      "<>:1: SyntaxWarning: \"is\" with a literal. Did you mean \"==\"?\n",
      "<>:1: SyntaxWarning: \"is\" with a literal. Did you mean \"==\"?\n",
      "C:\\Users\\monic\\AppData\\Local\\Temp/ipykernel_20284/3349199087.py:1: SyntaxWarning: \"is\" with a literal. Did you mean \"==\"?\n",
      "  2.0 is 2.0\n"
     ]
    },
    {
     "data": {
      "text/plain": [
       "True"
      ]
     },
     "execution_count": 66,
     "metadata": {},
     "output_type": "execute_result"
    }
   ],
   "source": [
    "2.0 is 2.0"
   ]
  },
  {
   "cell_type": "code",
   "execution_count": 67,
   "id": "6639d8ea-0702-4020-83b9-fd4ca55032ef",
   "metadata": {},
   "outputs": [
    {
     "data": {
      "text/plain": [
       "True"
      ]
     },
     "execution_count": 67,
     "metadata": {},
     "output_type": "execute_result"
    }
   ],
   "source": [
    "2.0 == 2"
   ]
  },
  {
   "cell_type": "code",
   "execution_count": 68,
   "id": "9d06f831-e0df-47d8-a3d5-8939cba88e5f",
   "metadata": {},
   "outputs": [
    {
     "data": {
      "text/plain": [
       "True"
      ]
     },
     "execution_count": 68,
     "metadata": {},
     "output_type": "execute_result"
    }
   ],
   "source": [
    "True and not False is True"
   ]
  },
  {
   "cell_type": "markdown",
   "id": "ab206346-b258-4272-bc62-eefc749f6047",
   "metadata": {},
   "source": [
    "## Part 2: Sequence Objects"
   ]
  },
  {
   "cell_type": "code",
   "execution_count": null,
   "id": "94016110-7235-4fb5-9ef8-c5878da7f72b",
   "metadata": {},
   "outputs": [],
   "source": []
  }
 ],
 "metadata": {
  "kernelspec": {
   "display_name": "Python 3 (ipykernel)",
   "language": "python",
   "name": "python3"
  },
  "language_info": {
   "codemirror_mode": {
    "name": "ipython",
    "version": 3
   },
   "file_extension": ".py",
   "mimetype": "text/x-python",
   "name": "python",
   "nbconvert_exporter": "python",
   "pygments_lexer": "ipython3",
   "version": "3.9.12"
  }
 },
 "nbformat": 4,
 "nbformat_minor": 5
}
