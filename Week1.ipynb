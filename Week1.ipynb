{
 "cells": [
  {
   "cell_type": "markdown",
   "id": "fad591d1-ce9f-4ff5-8aa2-15ed992a26c8",
   "metadata": {},
   "source": [
    "## EdX. Python for data science"
   ]
  },
  {
   "cell_type": "markdown",
   "id": "4b1dfe56-b998-49d9-8032-3208c69a75e7",
   "metadata": {},
   "source": [
    "Tutorial de Jupyter [https://www.youtube.com/watch?v=7wfPqAyYADY](https://www.youtube.com/watch?v=7wfPqAyYADY)"
   ]
  },
  {
   "cell_type": "markdown",
   "id": "7d4a2f49-a3a2-4236-84b4-281b78c33bfc",
   "metadata": {},
   "source": [
    "### Week 0"
   ]
  },
  {
   "cell_type": "markdown",
   "id": "aba15194-4215-4d2a-a173-cf4ed75a7f28",
   "metadata": {},
   "source": [
    "Esta semana es una semana de repaso de los conceptos básicos en Python. \n",
    "En esta semana, se incluyen los conceptos básicos que podemos usar en Spider, R o en Jupiter Labs."
   ]
  },
  {
   "cell_type": "markdown",
   "id": "05737cd5-7df8-4279-9929-f936ec9c607d",
   "metadata": {},
   "source": [
    "Para importar paquetes es necesario llamarlos como \"library\". Se les pone un alias para poder acortar las órdenes. Después, podemos utilizarlo para declarar dos arrays."
   ]
  },
  {
   "cell_type": "code",
   "execution_count": 1,
   "id": "ed09f869-73e5-45f9-83f8-8606da5199bf",
   "metadata": {},
   "outputs": [],
   "source": [
    "import numpy as np\n",
    "x = np.array([1,3,5])\n",
    "y = np.array([1,5,9,11])"
   ]
  },
  {
   "cell_type": "markdown",
   "id": "1d27c4a8-a5bf-48e9-b493-7308fcf4f64a",
   "metadata": {},
   "source": [
    "Para los objetos, hay propiedades (no llevan paréntesis) y funciones (que sí lo llevan)."
   ]
  },
  {
   "cell_type": "code",
   "execution_count": 2,
   "id": "1044f887-5195-4d70-b31e-2dd1fec1ad2e",
   "metadata": {},
   "outputs": [
    {
     "data": {
      "text/plain": [
       "3.0"
      ]
     },
     "execution_count": 2,
     "metadata": {},
     "output_type": "execute_result"
    }
   ],
   "source": [
    "x.mean()"
   ]
  },
  {
   "cell_type": "code",
   "execution_count": 3,
   "id": "81c5c906-8008-4c4d-8dcd-d0dccd894f17",
   "metadata": {},
   "outputs": [
    {
     "data": {
      "text/plain": [
       "6.5"
      ]
     },
     "execution_count": 3,
     "metadata": {},
     "output_type": "execute_result"
    }
   ],
   "source": [
    "y.mean()"
   ]
  },
  {
   "cell_type": "code",
   "execution_count": 4,
   "id": "4a02e4e4-7d3f-4bea-bd11-fef7a2f840cc",
   "metadata": {},
   "outputs": [
    {
     "data": {
      "text/plain": [
       "(3,)"
      ]
     },
     "execution_count": 4,
     "metadata": {},
     "output_type": "execute_result"
    }
   ],
   "source": [
    "x.shape"
   ]
  },
  {
   "cell_type": "code",
   "execution_count": 5,
   "id": "49e4978d-8bea-4af8-ab45-bb6689ac77e1",
   "metadata": {},
   "outputs": [
    {
     "data": {
      "text/plain": [
       "(4,)"
      ]
     },
     "execution_count": 5,
     "metadata": {},
     "output_type": "execute_result"
    }
   ],
   "source": [
    "y.shape"
   ]
  },
  {
   "cell_type": "markdown",
   "id": "7b4482f4-4d0d-44f0-94d4-b99f86bf3b1f",
   "metadata": {
    "jp-MarkdownHeadingCollapsed": true,
    "tags": []
   },
   "source": [
    "### Modules and Methods"
   ]
  },
  {
   "cell_type": "markdown",
   "id": "edcdda40-c94b-4a59-88f3-a54ec86c9468",
   "metadata": {},
   "source": [
    "Review how to import modules using the example of the math module.\n",
    "Review object methods through examples using string methods.\n",
    "For example, we can import the math module by saying \"import math\". Este paquete incluye valores (sin paréntesis) y funciones o métodos (con paréntesis)."
   ]
  },
  {
   "cell_type": "code",
   "execution_count": 6,
   "id": "e5977f83-a173-4cc8-96b7-d497f8db8b26",
   "metadata": {},
   "outputs": [],
   "source": [
    "import math"
   ]
  },
  {
   "cell_type": "code",
   "execution_count": 7,
   "id": "cea4b30d-6369-475d-9438-108196303908",
   "metadata": {},
   "outputs": [
    {
     "data": {
      "text/plain": [
       "3.141592653589793"
      ]
     },
     "execution_count": 7,
     "metadata": {},
     "output_type": "execute_result"
    }
   ],
   "source": [
    "math.pi"
   ]
  },
  {
   "cell_type": "code",
   "execution_count": 8,
   "id": "44657ef7-84fc-4340-8e46-2ccd5aff3e0b",
   "metadata": {},
   "outputs": [
    {
     "data": {
      "text/plain": [
       "2.8284271247461903"
      ]
     },
     "execution_count": 8,
     "metadata": {},
     "output_type": "execute_result"
    }
   ],
   "source": [
    "math.sqrt(8)"
   ]
  },
  {
   "cell_type": "code",
   "execution_count": 9,
   "id": "397dee8b-5401-4800-88c3-dfa877c349aa",
   "metadata": {},
   "outputs": [
    {
     "data": {
      "text/plain": [
       "1.0"
      ]
     },
     "execution_count": 9,
     "metadata": {},
     "output_type": "execute_result"
    }
   ],
   "source": [
    "math.sin(math.pi/2)"
   ]
  },
  {
   "cell_type": "markdown",
   "id": "e828746b-4b64-445d-ab50-0a9fa4503252",
   "metadata": {},
   "source": [
    "También podemos pedirle a Python que nos importe solo una cosa concreta dentro de un paquete, por ejemplo, solo el valor de pi, desde el paquete math."
   ]
  },
  {
   "cell_type": "code",
   "execution_count": 10,
   "id": "d7592e82-180a-49d2-b4ad-a0aa3df37dee",
   "metadata": {},
   "outputs": [],
   "source": [
    "from math import pi"
   ]
  },
  {
   "cell_type": "markdown",
   "id": "d0d4cfc3-868c-45fa-9d93-3148199b2e17",
   "metadata": {},
   "source": [
    "### Namespaces"
   ]
  },
  {
   "cell_type": "markdown",
   "id": "4a53ae23-06ea-45cb-a378-f54afe24a069",
   "metadata": {},
   "source": [
    "Cada paquete tiene su propio espacio de nombres para prevenir que no entren en conflicto. Por ejemplo, podemos considerar la función `sqrt` que está tanto en el paquete `numpy` como en `math`. Aunque son lo mismo para algunas cosas, no lo son para otras.\n"
   ]
  },
  {
   "cell_type": "code",
   "execution_count": 11,
   "id": "e3ecd412-8386-4c90-97ec-05b3058ac05f",
   "metadata": {},
   "outputs": [
    {
     "data": {
      "text/plain": [
       "1.4142135623730951"
      ]
     },
     "execution_count": 11,
     "metadata": {},
     "output_type": "execute_result"
    }
   ],
   "source": [
    "np.sqrt(2)"
   ]
  },
  {
   "cell_type": "code",
   "execution_count": 12,
   "id": "4c51ec5e-5de0-48f9-9c8d-74de2c0184d8",
   "metadata": {},
   "outputs": [
    {
     "data": {
      "text/plain": [
       "1.4142135623730951"
      ]
     },
     "execution_count": 12,
     "metadata": {},
     "output_type": "execute_result"
    }
   ],
   "source": [
    "math.sqrt(2)"
   ]
  },
  {
   "cell_type": "code",
   "execution_count": 13,
   "id": "eba247a1-d595-40b4-a37d-22df47860fe4",
   "metadata": {},
   "outputs": [
    {
     "data": {
      "text/plain": [
       "array([1.        , 1.73205081, 2.23606798])"
      ]
     },
     "execution_count": 13,
     "metadata": {},
     "output_type": "execute_result"
    }
   ],
   "source": [
    "np.sqrt([1, 3, 5])"
   ]
  },
  {
   "cell_type": "code",
   "execution_count": 14,
   "id": "cd1581a4-a54b-4c07-a35a-597e3d15cecf",
   "metadata": {},
   "outputs": [
    {
     "ename": "TypeError",
     "evalue": "must be real number, not list",
     "output_type": "error",
     "traceback": [
      "\u001b[1;31m---------------------------------------------------------------------------\u001b[0m",
      "\u001b[1;31mTypeError\u001b[0m                                 Traceback (most recent call last)",
      "\u001b[1;32m~\\AppData\\Local\\Temp/ipykernel_17872/2854881764.py\u001b[0m in \u001b[0;36m<module>\u001b[1;34m\u001b[0m\n\u001b[1;32m----> 1\u001b[1;33m \u001b[0mmath\u001b[0m\u001b[1;33m.\u001b[0m\u001b[0msqrt\u001b[0m\u001b[1;33m(\u001b[0m\u001b[1;33m[\u001b[0m\u001b[1;36m1\u001b[0m\u001b[1;33m,\u001b[0m\u001b[1;36m3\u001b[0m\u001b[1;33m,\u001b[0m\u001b[1;36m5\u001b[0m\u001b[1;33m]\u001b[0m\u001b[1;33m)\u001b[0m\u001b[1;33m\u001b[0m\u001b[1;33m\u001b[0m\u001b[0m\n\u001b[0m",
      "\u001b[1;31mTypeError\u001b[0m: must be real number, not list"
     ]
    }
   ],
   "source": [
    "math.sqrt([1,3,5])"
   ]
  },
  {
   "cell_type": "markdown",
   "id": "a9b33d30-138f-4c30-9aff-d3fbdd0ef8c8",
   "metadata": {},
   "source": [
    "En el caso del paquete `math` no puede gestionar la lista."
   ]
  },
  {
   "cell_type": "markdown",
   "id": "27756855-86dd-41fb-99d3-c36bb7a01979",
   "metadata": {},
   "source": [
    "Con respecto a los tipos, con `type` nos da información y `dir` nos da todos los métodos asociados."
   ]
  },
  {
   "cell_type": "code",
   "execution_count": 15,
   "id": "7024bdbf-61b9-47cb-b3ee-7fe55962b6b8",
   "metadata": {},
   "outputs": [
    {
     "data": {
      "text/plain": [
       "str"
      ]
     },
     "execution_count": 15,
     "metadata": {},
     "output_type": "execute_result"
    }
   ],
   "source": [
    "name = \"Amy\"\n",
    "type(name)"
   ]
  },
  {
   "cell_type": "code",
   "execution_count": 16,
   "id": "a6da0622-e85b-4160-a57a-6ad898f0009c",
   "metadata": {},
   "outputs": [
    {
     "data": {
      "text/plain": [
       "['__add__',\n",
       " '__class__',\n",
       " '__contains__',\n",
       " '__delattr__',\n",
       " '__dir__',\n",
       " '__doc__',\n",
       " '__eq__',\n",
       " '__format__',\n",
       " '__ge__',\n",
       " '__getattribute__',\n",
       " '__getitem__',\n",
       " '__getnewargs__',\n",
       " '__gt__',\n",
       " '__hash__',\n",
       " '__init__',\n",
       " '__init_subclass__',\n",
       " '__iter__',\n",
       " '__le__',\n",
       " '__len__',\n",
       " '__lt__',\n",
       " '__mod__',\n",
       " '__mul__',\n",
       " '__ne__',\n",
       " '__new__',\n",
       " '__reduce__',\n",
       " '__reduce_ex__',\n",
       " '__repr__',\n",
       " '__rmod__',\n",
       " '__rmul__',\n",
       " '__setattr__',\n",
       " '__sizeof__',\n",
       " '__str__',\n",
       " '__subclasshook__',\n",
       " 'capitalize',\n",
       " 'casefold',\n",
       " 'center',\n",
       " 'count',\n",
       " 'encode',\n",
       " 'endswith',\n",
       " 'expandtabs',\n",
       " 'find',\n",
       " 'format',\n",
       " 'format_map',\n",
       " 'index',\n",
       " 'isalnum',\n",
       " 'isalpha',\n",
       " 'isascii',\n",
       " 'isdecimal',\n",
       " 'isdigit',\n",
       " 'isidentifier',\n",
       " 'islower',\n",
       " 'isnumeric',\n",
       " 'isprintable',\n",
       " 'isspace',\n",
       " 'istitle',\n",
       " 'isupper',\n",
       " 'join',\n",
       " 'ljust',\n",
       " 'lower',\n",
       " 'lstrip',\n",
       " 'maketrans',\n",
       " 'partition',\n",
       " 'removeprefix',\n",
       " 'removesuffix',\n",
       " 'replace',\n",
       " 'rfind',\n",
       " 'rindex',\n",
       " 'rjust',\n",
       " 'rpartition',\n",
       " 'rsplit',\n",
       " 'rstrip',\n",
       " 'split',\n",
       " 'splitlines',\n",
       " 'startswith',\n",
       " 'strip',\n",
       " 'swapcase',\n",
       " 'title',\n",
       " 'translate',\n",
       " 'upper',\n",
       " 'zfill']"
      ]
     },
     "execution_count": 16,
     "metadata": {},
     "output_type": "execute_result"
    }
   ],
   "source": [
    "dir(name)"
   ]
  },
  {
   "cell_type": "code",
   "execution_count": 20,
   "id": "defe46cf-e1b5-4358-8597-d3667b4aafec",
   "metadata": {},
   "outputs": [
    {
     "data": {
      "text/plain": [
       "'AMY'"
      ]
     },
     "execution_count": 20,
     "metadata": {},
     "output_type": "execute_result"
    }
   ],
   "source": [
    "name.upper()"
   ]
  },
  {
   "cell_type": "code",
   "execution_count": 19,
   "id": "5a28e9fd-b96e-4bad-91cb-2de3a9607ddd",
   "metadata": {},
   "outputs": [
    {
     "name": "stdout",
     "output_type": "stream",
     "text": [
      "No Python documentation found for 'AMY'.\n",
      "Use help() to get the interactive help utility.\n",
      "Use help(str) for help on the str class.\n",
      "\n"
     ]
    }
   ],
   "source": [
    "help(name.upper())"
   ]
  },
  {
   "cell_type": "code",
   "execution_count": null,
   "id": "be44a0ca-1f8a-4476-883b-c64ad495cd24",
   "metadata": {},
   "outputs": [],
   "source": []
  }
 ],
 "metadata": {
  "kernelspec": {
   "display_name": "Python 3 (ipykernel)",
   "language": "python",
   "name": "python3"
  },
  "language_info": {
   "codemirror_mode": {
    "name": "ipython",
    "version": 3
   },
   "file_extension": ".py",
   "mimetype": "text/x-python",
   "name": "python",
   "nbconvert_exporter": "python",
   "pygments_lexer": "ipython3",
   "version": "3.9.12"
  }
 },
 "nbformat": 4,
 "nbformat_minor": 5
}
