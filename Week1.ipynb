{
 "cells": [
  {
   "cell_type": "markdown",
   "id": "fad591d1-ce9f-4ff5-8aa2-15ed992a26c8",
   "metadata": {},
   "source": [
    "## EdX. Python for data science"
   ]
  },
  {
   "cell_type": "markdown",
   "id": "4b1dfe56-b998-49d9-8032-3208c69a75e7",
   "metadata": {},
   "source": [
    "Tutorial de Jupyter [https://www.youtube.com/watch?v=7wfPqAyYADY](https://www.youtube.com/watch?v=7wfPqAyYADY)"
   ]
  },
  {
   "cell_type": "markdown",
   "id": "7d4a2f49-a3a2-4236-84b4-281b78c33bfc",
   "metadata": {},
   "source": [
    "# Python for Data Science"
   ]
  },
  {
   "cell_type": "markdown",
   "id": "aba15194-4215-4d2a-a173-cf4ed75a7f28",
   "metadata": {},
   "source": [
    "Esta semana es una semana de repaso de los conceptos básicos en Python. \n",
    "En esta semana, se incluyen los conceptos básicos que podemos usar en Spider, R o en Jupiter Labs."
   ]
  },
  {
   "cell_type": "markdown",
   "id": "1f29b8c1-c87d-4614-a4f0-a8b6661baf67",
   "metadata": {},
   "source": [
    "## Part 1: Objects and Methods"
   ]
  },
  {
   "cell_type": "markdown",
   "id": "05737cd5-7df8-4279-9929-f936ec9c607d",
   "metadata": {},
   "source": [
    "Para importar paquetes es necesario llamarlos como \"library\". Se les pone un alias para poder acortar las órdenes. Después, podemos utilizarlo para declarar dos arrays."
   ]
  },
  {
   "cell_type": "code",
   "execution_count": 2,
   "id": "ed09f869-73e5-45f9-83f8-8606da5199bf",
   "metadata": {},
   "outputs": [],
   "source": [
    "import numpy as np\n",
    "x = np.array([1,3,5])\n",
    "y = np.array([1,5,9,11])"
   ]
  },
  {
   "cell_type": "markdown",
   "id": "1d27c4a8-a5bf-48e9-b493-7308fcf4f64a",
   "metadata": {},
   "source": [
    "Para los objetos, hay propiedades (no llevan paréntesis) y funciones (que sí lo llevan)."
   ]
  },
  {
   "cell_type": "code",
   "execution_count": 3,
   "id": "1044f887-5195-4d70-b31e-2dd1fec1ad2e",
   "metadata": {},
   "outputs": [
    {
     "data": {
      "text/plain": [
       "3.0"
      ]
     },
     "execution_count": 3,
     "metadata": {},
     "output_type": "execute_result"
    }
   ],
   "source": [
    "x.mean()"
   ]
  },
  {
   "cell_type": "code",
   "execution_count": 4,
   "id": "81c5c906-8008-4c4d-8dcd-d0dccd894f17",
   "metadata": {},
   "outputs": [
    {
     "data": {
      "text/plain": [
       "6.5"
      ]
     },
     "execution_count": 4,
     "metadata": {},
     "output_type": "execute_result"
    }
   ],
   "source": [
    "y.mean()"
   ]
  },
  {
   "cell_type": "code",
   "execution_count": 5,
   "id": "4a02e4e4-7d3f-4bea-bd11-fef7a2f840cc",
   "metadata": {},
   "outputs": [
    {
     "data": {
      "text/plain": [
       "(3,)"
      ]
     },
     "execution_count": 5,
     "metadata": {},
     "output_type": "execute_result"
    }
   ],
   "source": [
    "x.shape"
   ]
  },
  {
   "cell_type": "code",
   "execution_count": 6,
   "id": "49e4978d-8bea-4af8-ab45-bb6689ac77e1",
   "metadata": {},
   "outputs": [
    {
     "data": {
      "text/plain": [
       "(4,)"
      ]
     },
     "execution_count": 6,
     "metadata": {},
     "output_type": "execute_result"
    }
   ],
   "source": [
    "y.shape"
   ]
  },
  {
   "cell_type": "markdown",
   "id": "7b4482f4-4d0d-44f0-94d4-b99f86bf3b1f",
   "metadata": {
    "tags": []
   },
   "source": [
    "### Modules and Methods"
   ]
  },
  {
   "cell_type": "markdown",
   "id": "edcdda40-c94b-4a59-88f3-a54ec86c9468",
   "metadata": {},
   "source": [
    "Review how to import modules using the example of the math module.\n",
    "Review object methods through examples using string methods.\n",
    "For example, we can import the math module by saying \"import math\". Este paquete incluye valores (sin paréntesis) y funciones o métodos (con paréntesis)."
   ]
  },
  {
   "cell_type": "code",
   "execution_count": 7,
   "id": "e5977f83-a173-4cc8-96b7-d497f8db8b26",
   "metadata": {},
   "outputs": [],
   "source": [
    "import math"
   ]
  },
  {
   "cell_type": "code",
   "execution_count": 8,
   "id": "cea4b30d-6369-475d-9438-108196303908",
   "metadata": {},
   "outputs": [
    {
     "data": {
      "text/plain": [
       "3.141592653589793"
      ]
     },
     "execution_count": 8,
     "metadata": {},
     "output_type": "execute_result"
    }
   ],
   "source": [
    "math.pi"
   ]
  },
  {
   "cell_type": "code",
   "execution_count": 9,
   "id": "44657ef7-84fc-4340-8e46-2ccd5aff3e0b",
   "metadata": {},
   "outputs": [
    {
     "data": {
      "text/plain": [
       "2.8284271247461903"
      ]
     },
     "execution_count": 9,
     "metadata": {},
     "output_type": "execute_result"
    }
   ],
   "source": [
    "math.sqrt(8)"
   ]
  },
  {
   "cell_type": "code",
   "execution_count": 10,
   "id": "397dee8b-5401-4800-88c3-dfa877c349aa",
   "metadata": {},
   "outputs": [
    {
     "data": {
      "text/plain": [
       "1.0"
      ]
     },
     "execution_count": 10,
     "metadata": {},
     "output_type": "execute_result"
    }
   ],
   "source": [
    "math.sin(math.pi/2)"
   ]
  },
  {
   "cell_type": "markdown",
   "id": "e828746b-4b64-445d-ab50-0a9fa4503252",
   "metadata": {},
   "source": [
    "También podemos pedirle a Python que nos importe solo una cosa concreta dentro de un paquete, por ejemplo, solo el valor de pi, desde el paquete math."
   ]
  },
  {
   "cell_type": "code",
   "execution_count": 11,
   "id": "d7592e82-180a-49d2-b4ad-a0aa3df37dee",
   "metadata": {},
   "outputs": [],
   "source": [
    "from math import pi"
   ]
  },
  {
   "cell_type": "markdown",
   "id": "d0d4cfc3-868c-45fa-9d93-3148199b2e17",
   "metadata": {},
   "source": [
    "### Namespaces"
   ]
  },
  {
   "cell_type": "markdown",
   "id": "4a53ae23-06ea-45cb-a378-f54afe24a069",
   "metadata": {},
   "source": [
    "Cada paquete tiene su propio espacio de nombres para prevenir que no entren en conflicto. Por ejemplo, podemos considerar la función `sqrt` que está tanto en el paquete `numpy` como en `math`. Aunque son lo mismo para algunas cosas, no lo son para otras.\n"
   ]
  },
  {
   "cell_type": "code",
   "execution_count": 12,
   "id": "e3ecd412-8386-4c90-97ec-05b3058ac05f",
   "metadata": {},
   "outputs": [
    {
     "data": {
      "text/plain": [
       "1.4142135623730951"
      ]
     },
     "execution_count": 12,
     "metadata": {},
     "output_type": "execute_result"
    }
   ],
   "source": [
    "np.sqrt(2)"
   ]
  },
  {
   "cell_type": "code",
   "execution_count": 13,
   "id": "4c51ec5e-5de0-48f9-9c8d-74de2c0184d8",
   "metadata": {},
   "outputs": [
    {
     "data": {
      "text/plain": [
       "1.4142135623730951"
      ]
     },
     "execution_count": 13,
     "metadata": {},
     "output_type": "execute_result"
    }
   ],
   "source": [
    "math.sqrt(2)"
   ]
  },
  {
   "cell_type": "code",
   "execution_count": 14,
   "id": "eba247a1-d595-40b4-a37d-22df47860fe4",
   "metadata": {},
   "outputs": [
    {
     "data": {
      "text/plain": [
       "array([1.        , 1.73205081, 2.23606798])"
      ]
     },
     "execution_count": 14,
     "metadata": {},
     "output_type": "execute_result"
    }
   ],
   "source": [
    "np.sqrt([1, 3, 5])"
   ]
  },
  {
   "cell_type": "code",
   "execution_count": 15,
   "id": "cd1581a4-a54b-4c07-a35a-597e3d15cecf",
   "metadata": {},
   "outputs": [
    {
     "ename": "TypeError",
     "evalue": "must be real number, not list",
     "output_type": "error",
     "traceback": [
      "\u001b[1;31m---------------------------------------------------------------------------\u001b[0m",
      "\u001b[1;31mTypeError\u001b[0m                                 Traceback (most recent call last)",
      "\u001b[1;32m~\\AppData\\Local\\Temp/ipykernel_20284/2854881764.py\u001b[0m in \u001b[0;36m<module>\u001b[1;34m\u001b[0m\n\u001b[1;32m----> 1\u001b[1;33m \u001b[0mmath\u001b[0m\u001b[1;33m.\u001b[0m\u001b[0msqrt\u001b[0m\u001b[1;33m(\u001b[0m\u001b[1;33m[\u001b[0m\u001b[1;36m1\u001b[0m\u001b[1;33m,\u001b[0m\u001b[1;36m3\u001b[0m\u001b[1;33m,\u001b[0m\u001b[1;36m5\u001b[0m\u001b[1;33m]\u001b[0m\u001b[1;33m)\u001b[0m\u001b[1;33m\u001b[0m\u001b[1;33m\u001b[0m\u001b[0m\n\u001b[0m",
      "\u001b[1;31mTypeError\u001b[0m: must be real number, not list"
     ]
    }
   ],
   "source": [
    "math.sqrt([1,3,5])"
   ]
  },
  {
   "cell_type": "markdown",
   "id": "a9b33d30-138f-4c30-9aff-d3fbdd0ef8c8",
   "metadata": {},
   "source": [
    "En el caso del paquete `math` no puede gestionar la lista."
   ]
  },
  {
   "cell_type": "markdown",
   "id": "27756855-86dd-41fb-99d3-c36bb7a01979",
   "metadata": {},
   "source": [
    "Con respecto a los tipos, con `type` nos da información y `dir` nos da todos los métodos asociados."
   ]
  },
  {
   "cell_type": "code",
   "execution_count": 16,
   "id": "7024bdbf-61b9-47cb-b3ee-7fe55962b6b8",
   "metadata": {},
   "outputs": [
    {
     "data": {
      "text/plain": [
       "str"
      ]
     },
     "execution_count": 16,
     "metadata": {},
     "output_type": "execute_result"
    }
   ],
   "source": [
    "name = \"Amy\"\n",
    "type(name)"
   ]
  },
  {
   "cell_type": "markdown",
   "id": "bd6c480a-d065-4876-bd8f-ceaf693e9842",
   "metadata": {},
   "source": [
    "dir(name)"
   ]
  },
  {
   "cell_type": "code",
   "execution_count": 18,
   "id": "defe46cf-e1b5-4358-8597-d3667b4aafec",
   "metadata": {},
   "outputs": [
    {
     "data": {
      "text/plain": [
       "'AMY'"
      ]
     },
     "execution_count": 18,
     "metadata": {},
     "output_type": "execute_result"
    }
   ],
   "source": [
    "name.upper()"
   ]
  },
  {
   "cell_type": "code",
   "execution_count": 19,
   "id": "5a28e9fd-b96e-4bad-91cb-2de3a9607ddd",
   "metadata": {},
   "outputs": [
    {
     "name": "stdout",
     "output_type": "stream",
     "text": [
      "No Python documentation found for 'AMY'.\n",
      "Use help() to get the interactive help utility.\n",
      "Use help(str) for help on the str class.\n",
      "\n"
     ]
    }
   ],
   "source": [
    "help(name.upper())"
   ]
  },
  {
   "cell_type": "code",
   "execution_count": 20,
   "id": "be44a0ca-1f8a-4476-883b-c64ad495cd24",
   "metadata": {},
   "outputs": [
    {
     "name": "stdout",
     "output_type": "stream",
     "text": [
      "Help on built-in function upper:\n",
      "\n",
      "upper() method of builtins.str instance\n",
      "    Return a copy of the string converted to uppercase.\n",
      "\n"
     ]
    }
   ],
   "source": [
    "help(name.upper)"
   ]
  },
  {
   "cell_type": "markdown",
   "id": "9367a10e-8bdc-4200-837d-a73148c158cc",
   "metadata": {},
   "source": [
    "nos tenemos que asegurar de que preguntamos por el método y no lo ejecutamos, poniendo comillas"
   ]
  },
  {
   "cell_type": "markdown",
   "id": "b29c5f5f-017e-41ec-afd7-a37ebcd33dda",
   "metadata": {},
   "source": [
    "### 1.1.4: Numbers and Basic Calculations"
   ]
  },
  {
   "cell_type": "markdown",
   "id": "fadf4faf-1ceb-42bc-8625-10690600d264",
   "metadata": {},
   "source": [
    "Hay tres tipos de números: integers, floating and complex"
   ]
  },
  {
   "cell_type": "code",
   "execution_count": 23,
   "id": "f7b4c83a-a1a3-487f-821e-5ddd48d2fd0b",
   "metadata": {},
   "outputs": [
    {
     "data": {
      "text/plain": [
       "157"
      ]
     },
     "execution_count": 23,
     "metadata": {},
     "output_type": "execute_result"
    }
   ],
   "source": [
    "123 + 34"
   ]
  },
  {
   "cell_type": "code",
   "execution_count": 24,
   "id": "8e98ca93-4ea3-4c6a-8082-5a2a987d74e9",
   "metadata": {},
   "outputs": [
    {
     "data": {
      "text/plain": [
       "4182"
      ]
     },
     "execution_count": 24,
     "metadata": {},
     "output_type": "execute_result"
    }
   ],
   "source": [
    "123 * 34"
   ]
  },
  {
   "cell_type": "code",
   "execution_count": 25,
   "id": "1ba243b6-9ec4-4558-b081-7af5fb22cd7e",
   "metadata": {},
   "outputs": [
    {
     "data": {
      "text/plain": [
       "113965602005968684136628000184496763088921243891670079405854808234118809"
      ]
     },
     "execution_count": 25,
     "metadata": {},
     "output_type": "execute_result"
    }
   ],
   "source": [
    "123 ** 34 # Potencia"
   ]
  },
  {
   "cell_type": "code",
   "execution_count": 26,
   "id": "26b0a10b-68cb-487d-b96f-c2780297efc0",
   "metadata": {},
   "outputs": [
    {
     "data": {
      "text/plain": [
       "1620587040956941648138019149580451751791408815399856486321490441109247948182424586279351114254310250315224788323786311669500132089069298414529660288106976602982481575115517659039676937215792244430911501885612662688416992686717328200977320302260955885381269342664172096749744471673079234192070637685985862233209574304353002629851987643653917374216965606822745486564254193753767014302447629358984177110313461027119984964280968057930149960424616733720937534603622415792139782775432552713446546030173370807309703695438668612465182771756069486081276652338983871828174818669246181083535832737714204071042647575817221083531373369980609786229210841674589483831544925259013707610623084601406585587279565582369167013054718062878333332586600713424499355185591117620317805507458980460318472255645115772821959956616697266218221035620477893952103627520039584916073573793895044821331887002489051332204443"
      ]
     },
     "execution_count": 26,
     "metadata": {},
     "output_type": "execute_result"
    }
   ],
   "source": [
    "123 ** 425 # python no tiene limitaciones en los números enteros que puede gestionar"
   ]
  },
  {
   "cell_type": "markdown",
   "id": "721e22e1-cdbc-41f8-bdaf-1514c14d0b2b",
   "metadata": {},
   "source": [
    "Es interesante que Python no tiene limitaciones en los números enteros que puede gestionar. Si hacemos la misma operación en R, podemos usar como comandos `123 ** 425` o `123^425` pero en ambos casos el resultado es el mismo, infinito `Inf`."
   ]
  },
  {
   "cell_type": "code",
   "execution_count": 27,
   "id": "5ecc5f51-08b0-4d11-93b9-1e68e9efd1da",
   "metadata": {},
   "outputs": [
    {
     "data": {
      "text/plain": [
       "0.8571428571428571"
      ]
     },
     "execution_count": 27,
     "metadata": {},
     "output_type": "execute_result"
    }
   ],
   "source": [
    "6/7"
   ]
  },
  {
   "cell_type": "code",
   "execution_count": 28,
   "id": "af7ee8c3-0979-4caa-bd5e-7c420a3049c7",
   "metadata": {},
   "outputs": [
    {
     "data": {
      "text/plain": [
       "0"
      ]
     },
     "execution_count": 28,
     "metadata": {},
     "output_type": "execute_result"
    }
   ],
   "source": [
    "6//7 # floor division"
   ]
  },
  {
   "cell_type": "code",
   "execution_count": 29,
   "id": "d04adeb3-f330-41e8-96f3-cad3dca9620f",
   "metadata": {},
   "outputs": [
    {
     "data": {
      "text/plain": [
       "2"
      ]
     },
     "execution_count": 29,
     "metadata": {},
     "output_type": "execute_result"
    }
   ],
   "source": [
    "15//7"
   ]
  },
  {
   "cell_type": "markdown",
   "id": "48c5c190-cdb2-476c-ae0b-33beedb676d1",
   "metadata": {},
   "source": [
    "Una cosa interesante en el Python interactivo es el **operador \"underscore \\_\"**  que simplemente devuelve el último valor que se ha almacenado."
   ]
  },
  {
   "cell_type": "code",
   "execution_count": 30,
   "id": "1bb0bb14-e3ba-423e-b15f-41731af3e39f",
   "metadata": {},
   "outputs": [
    {
     "data": {
      "text/plain": [
       "6.521739130434783"
      ]
     },
     "execution_count": 30,
     "metadata": {},
     "output_type": "execute_result"
    }
   ],
   "source": [
    "15/2.3"
   ]
  },
  {
   "cell_type": "code",
   "execution_count": 31,
   "id": "0bbff9dd-3b6c-40a0-8097-870917828699",
   "metadata": {},
   "outputs": [
    {
     "data": {
      "text/plain": [
       "6.521739130434783"
      ]
     },
     "execution_count": 31,
     "metadata": {},
     "output_type": "execute_result"
    }
   ],
   "source": [
    "_"
   ]
  },
  {
   "cell_type": "code",
   "execution_count": 32,
   "id": "70331242-b2e6-4042-851d-d40e01e84c83",
   "metadata": {},
   "outputs": [
    {
     "data": {
      "text/plain": [
       "15.0"
      ]
     },
     "execution_count": 32,
     "metadata": {},
     "output_type": "execute_result"
    }
   ],
   "source": [
    "_ * 2.3"
   ]
  },
  {
   "cell_type": "code",
   "execution_count": 33,
   "id": "84a7d2ca-d165-4f37-9eae-3e97b6627f11",
   "metadata": {},
   "outputs": [
    {
     "data": {
      "text/plain": [
       "20"
      ]
     },
     "execution_count": 33,
     "metadata": {},
     "output_type": "execute_result"
    }
   ],
   "source": [
    "10 * 2"
   ]
  },
  {
   "cell_type": "code",
   "execution_count": 34,
   "id": "ff27e9d8-a374-4f7c-b8ec-e0ec8c279196",
   "metadata": {},
   "outputs": [
    {
     "data": {
      "text/plain": [
       "25"
      ]
     },
     "execution_count": 34,
     "metadata": {},
     "output_type": "execute_result"
    }
   ],
   "source": [
    "_ + 5"
   ]
  },
  {
   "cell_type": "code",
   "execution_count": 35,
   "id": "34ba43b3-7631-4153-9236-a58b239ac43a",
   "metadata": {},
   "outputs": [
    {
     "data": {
      "text/plain": [
       "625"
      ]
     },
     "execution_count": 35,
     "metadata": {},
     "output_type": "execute_result"
    }
   ],
   "source": [
    "_ ** 2"
   ]
  },
  {
   "cell_type": "code",
   "execution_count": 37,
   "id": "28feda57-5009-4cd3-83d7-ce91fef1bcf9",
   "metadata": {},
   "outputs": [],
   "source": [
    "import math"
   ]
  },
  {
   "cell_type": "code",
   "execution_count": 38,
   "id": "9919b15a-53fd-4750-bf43-96ac33b5d9d4",
   "metadata": {},
   "outputs": [
    {
     "data": {
      "text/plain": [
       "120"
      ]
     },
     "execution_count": 38,
     "metadata": {},
     "output_type": "execute_result"
    }
   ],
   "source": [
    "math.factorial(5)"
   ]
  },
  {
   "cell_type": "code",
   "execution_count": 39,
   "id": "8ee095af-f882-41dc-9bc5-f4f236bc33dc",
   "metadata": {},
   "outputs": [
    {
     "data": {
      "text/plain": [
       "24"
      ]
     },
     "execution_count": 39,
     "metadata": {},
     "output_type": "execute_result"
    }
   ],
   "source": [
    "math.factorial(4)"
   ]
  },
  {
   "cell_type": "markdown",
   "id": "ad9fdcb7-c881-4484-a50b-653b0ddd47ca",
   "metadata": {},
   "source": [
    "### 1.5. Random Choice"
   ]
  },
  {
   "cell_type": "markdown",
   "id": "00612a90-2f09-4b23-990c-061311c9f985",
   "metadata": {},
   "source": [
    "Para implementar números aleatorios, lo primero es importar el módulon `random`"
   ]
  },
  {
   "cell_type": "code",
   "execution_count": 40,
   "id": "e0cf73e9-950e-4fcf-9d71-d3afd5846cbb",
   "metadata": {},
   "outputs": [],
   "source": [
    "import random"
   ]
  },
  {
   "cell_type": "code",
   "execution_count": 42,
   "id": "a1b963b0-f53f-49f1-a297-53028db23b94",
   "metadata": {},
   "outputs": [
    {
     "data": {
      "text/plain": [
       "66"
      ]
     },
     "execution_count": 42,
     "metadata": {},
     "output_type": "execute_result"
    }
   ],
   "source": [
    "random.choice([2, 44, 55, 66]) #elige uno de ellos"
   ]
  },
  {
   "cell_type": "code",
   "execution_count": 43,
   "id": "06eba74c-392d-4cf0-a31e-8f33718f9763",
   "metadata": {},
   "outputs": [
    {
     "data": {
      "text/plain": [
       "'adios'"
      ]
     },
     "execution_count": 43,
     "metadata": {},
     "output_type": "execute_result"
    }
   ],
   "source": [
    "random.choice([\"hola\", \"adios\", \"muérete\"])"
   ]
  },
  {
   "cell_type": "markdown",
   "id": "567898a7-1a27-4531-95f1-cc861dbec810",
   "metadata": {},
   "source": [
    "### 1.1.6: Expressions and Booleans"
   ]
  },
  {
   "cell_type": "markdown",
   "id": "583b9ec3-c509-4d3b-a227-debb827d8122",
   "metadata": {},
   "source": [
    "Los booleans verdadero y falso se ponen con mayúsculas en Python"
   ]
  },
  {
   "cell_type": "code",
   "execution_count": 44,
   "id": "60a7475f-72a0-4730-918d-f621adde90a2",
   "metadata": {},
   "outputs": [
    {
     "data": {
      "text/plain": [
       "True"
      ]
     },
     "execution_count": 44,
     "metadata": {},
     "output_type": "execute_result"
    }
   ],
   "source": [
    "True"
   ]
  },
  {
   "cell_type": "code",
   "execution_count": 45,
   "id": "4aed62d1-0ea1-41c1-801f-03a041c7801f",
   "metadata": {},
   "outputs": [
    {
     "data": {
      "text/plain": [
       "False"
      ]
     },
     "execution_count": 45,
     "metadata": {},
     "output_type": "execute_result"
    }
   ],
   "source": [
    "False"
   ]
  },
  {
   "cell_type": "code",
   "execution_count": 46,
   "id": "ead988b3-e8ce-48ce-973e-6a11908ad795",
   "metadata": {},
   "outputs": [
    {
     "data": {
      "text/plain": [
       "False"
      ]
     },
     "execution_count": 46,
     "metadata": {},
     "output_type": "execute_result"
    }
   ],
   "source": [
    "True == False"
   ]
  },
  {
   "cell_type": "code",
   "execution_count": 47,
   "id": "f9b798c0-b929-4aa4-be25-b75b23dc68f5",
   "metadata": {},
   "outputs": [
    {
     "data": {
      "text/plain": [
       "bool"
      ]
     },
     "execution_count": 47,
     "metadata": {},
     "output_type": "execute_result"
    }
   ],
   "source": [
    "type(False)"
   ]
  },
  {
   "cell_type": "markdown",
   "id": "6c0407a1-4a45-49e6-9478-d5d13bdcefa3",
   "metadata": {},
   "source": [
    "Hay tres operadores booleanos: And, Or Not"
   ]
  },
  {
   "cell_type": "code",
   "execution_count": 48,
   "id": "30f2d1d1-7dd8-4e24-ad0f-8e36ec3b1bec",
   "metadata": {},
   "outputs": [
    {
     "data": {
      "text/plain": [
       "True"
      ]
     },
     "execution_count": 48,
     "metadata": {},
     "output_type": "execute_result"
    }
   ],
   "source": [
    "True or False"
   ]
  },
  {
   "cell_type": "code",
   "execution_count": 49,
   "id": "6bca1469-46d9-41c3-983a-bdaaed7db540",
   "metadata": {},
   "outputs": [
    {
     "data": {
      "text/plain": [
       "False"
      ]
     },
     "execution_count": 49,
     "metadata": {},
     "output_type": "execute_result"
    }
   ],
   "source": [
    "False or False"
   ]
  },
  {
   "cell_type": "code",
   "execution_count": 50,
   "id": "8e6b33c8-75ec-4085-bd94-9e000bf94376",
   "metadata": {},
   "outputs": [
    {
     "data": {
      "text/plain": [
       "True"
      ]
     },
     "execution_count": 50,
     "metadata": {},
     "output_type": "execute_result"
    }
   ],
   "source": [
    "(2 == 4-2) or (5 == 10)"
   ]
  },
  {
   "cell_type": "code",
   "execution_count": 51,
   "id": "3cf1805b-77c0-441b-9066-416aac730914",
   "metadata": {},
   "outputs": [
    {
     "data": {
      "text/plain": [
       "False"
      ]
     },
     "execution_count": 51,
     "metadata": {},
     "output_type": "execute_result"
    }
   ],
   "source": [
    "True and False"
   ]
  },
  {
   "cell_type": "code",
   "execution_count": 53,
   "id": "e720c8ac-2e9a-4b65-9869-eed2f6b9e7ac",
   "metadata": {},
   "outputs": [
    {
     "data": {
      "text/plain": [
       "False"
      ]
     },
     "execution_count": 53,
     "metadata": {},
     "output_type": "execute_result"
    }
   ],
   "source": [
    "not True"
   ]
  },
  {
   "cell_type": "code",
   "execution_count": 54,
   "id": "9cadcea5-7037-480d-81a5-8a6029161149",
   "metadata": {},
   "outputs": [
    {
     "data": {
      "text/plain": [
       "True"
      ]
     },
     "execution_count": 54,
     "metadata": {},
     "output_type": "execute_result"
    }
   ],
   "source": [
    "not False"
   ]
  },
  {
   "cell_type": "markdown",
   "id": "7d9caf61-250f-45f9-8791-ccbb3bc1e8ee",
   "metadata": {},
   "source": [
    "Python tiene **ocho** operadores de comparación"
   ]
  },
  {
   "cell_type": "code",
   "execution_count": 55,
   "id": "5b3b1478-224a-4980-966b-63bef1be5bd5",
   "metadata": {},
   "outputs": [
    {
     "data": {
      "text/plain": [
       "True"
      ]
     },
     "execution_count": 55,
     "metadata": {},
     "output_type": "execute_result"
    }
   ],
   "source": [
    "2 < 4"
   ]
  },
  {
   "cell_type": "code",
   "execution_count": 57,
   "id": "0441aab6-a168-4858-b4f3-dfea47624f4a",
   "metadata": {},
   "outputs": [
    {
     "data": {
      "text/plain": [
       "True"
      ]
     },
     "execution_count": 57,
     "metadata": {},
     "output_type": "execute_result"
    }
   ],
   "source": [
    "2 <= 2"
   ]
  },
  {
   "cell_type": "code",
   "execution_count": 58,
   "id": "5a41fa60-b369-4c0c-921b-005429324985",
   "metadata": {},
   "outputs": [
    {
     "data": {
      "text/plain": [
       "True"
      ]
     },
     "execution_count": 58,
     "metadata": {},
     "output_type": "execute_result"
    }
   ],
   "source": [
    "2 == 2"
   ]
  },
  {
   "cell_type": "code",
   "execution_count": 59,
   "id": "f7245430-bef0-4526-8a37-ec0c2ae36bb8",
   "metadata": {},
   "outputs": [
    {
     "data": {
      "text/plain": [
       "False"
      ]
     },
     "execution_count": 59,
     "metadata": {},
     "output_type": "execute_result"
    }
   ],
   "source": [
    "2 != 2"
   ]
  },
  {
   "cell_type": "code",
   "execution_count": 60,
   "id": "37458998-866a-4412-90c5-b4212f4ffa77",
   "metadata": {},
   "outputs": [
    {
     "data": {
      "text/plain": [
       "True"
      ]
     },
     "execution_count": 60,
     "metadata": {},
     "output_type": "execute_result"
    }
   ],
   "source": [
    "2> 1"
   ]
  },
  {
   "cell_type": "code",
   "execution_count": 61,
   "id": "6a64e425-59e0-44fd-ae7c-eab8defcf57c",
   "metadata": {},
   "outputs": [
    {
     "data": {
      "text/plain": [
       "True"
      ]
     },
     "execution_count": 61,
     "metadata": {},
     "output_type": "execute_result"
    }
   ],
   "source": [
    "2 >= 1"
   ]
  },
  {
   "cell_type": "code",
   "execution_count": 62,
   "id": "fbfd9e28-c609-4f48-b3f6-9e25cb29afa1",
   "metadata": {},
   "outputs": [
    {
     "data": {
      "text/plain": [
       "False"
      ]
     },
     "execution_count": 62,
     "metadata": {},
     "output_type": "execute_result"
    }
   ],
   "source": [
    "[2,3] == [3,3]"
   ]
  },
  {
   "cell_type": "code",
   "execution_count": 63,
   "id": "6ac67f2f-97b5-445f-835c-e72863fa73e2",
   "metadata": {},
   "outputs": [
    {
     "data": {
      "text/plain": [
       "True"
      ]
     },
     "execution_count": 63,
     "metadata": {},
     "output_type": "execute_result"
    }
   ],
   "source": [
    "[2,3] == [2,3]"
   ]
  },
  {
   "cell_type": "code",
   "execution_count": 65,
   "id": "4737d9b7-ec3f-4477-81f0-e856c64a7500",
   "metadata": {},
   "outputs": [
    {
     "data": {
      "text/plain": [
       "False"
      ]
     },
     "execution_count": 65,
     "metadata": {},
     "output_type": "execute_result"
    }
   ],
   "source": [
    "[2,3] is [2,3] # ¿es el mismo objeto? -> no"
   ]
  },
  {
   "cell_type": "code",
   "execution_count": 66,
   "id": "a71f5c40-54eb-4e3c-abc4-61a095c2aee6",
   "metadata": {},
   "outputs": [
    {
     "name": "stderr",
     "output_type": "stream",
     "text": [
      "<>:1: SyntaxWarning: \"is\" with a literal. Did you mean \"==\"?\n",
      "<>:1: SyntaxWarning: \"is\" with a literal. Did you mean \"==\"?\n",
      "C:\\Users\\monic\\AppData\\Local\\Temp/ipykernel_20284/3349199087.py:1: SyntaxWarning: \"is\" with a literal. Did you mean \"==\"?\n",
      "  2.0 is 2.0\n"
     ]
    },
    {
     "data": {
      "text/plain": [
       "True"
      ]
     },
     "execution_count": 66,
     "metadata": {},
     "output_type": "execute_result"
    }
   ],
   "source": [
    "2.0 is 2.0"
   ]
  },
  {
   "cell_type": "code",
   "execution_count": 67,
   "id": "6639d8ea-0702-4020-83b9-fd4ca55032ef",
   "metadata": {},
   "outputs": [
    {
     "data": {
      "text/plain": [
       "True"
      ]
     },
     "execution_count": 67,
     "metadata": {},
     "output_type": "execute_result"
    }
   ],
   "source": [
    "2.0 == 2"
   ]
  },
  {
   "cell_type": "code",
   "execution_count": 68,
   "id": "9d06f831-e0df-47d8-a3d5-8939cba88e5f",
   "metadata": {},
   "outputs": [
    {
     "data": {
      "text/plain": [
       "True"
      ]
     },
     "execution_count": 68,
     "metadata": {},
     "output_type": "execute_result"
    }
   ],
   "source": [
    "True and not False is True"
   ]
  },
  {
   "cell_type": "markdown",
   "id": "ab206346-b258-4272-bc62-eefc749f6047",
   "metadata": {},
   "source": [
    "## Part 2: Sequence Objects"
   ]
  },
  {
   "cell_type": "markdown",
   "id": "6651341c-eb0e-45b6-b63d-e741fec406e9",
   "metadata": {},
   "source": [
    "### 1.2.1: Sequences"
   ]
  },
  {
   "cell_type": "markdown",
   "id": "6ede468a-fe34-4cdf-af94-53010649d1fa",
   "metadata": {},
   "source": [
    "En Python una secuencia es una colección ordenada de objetosm con una determinada posición.\n",
    "Hay tres tipos de objetos:  \n",
    "- Listas  \n",
    "- Tupples  \n",
    "- \"range objects\"  \n",
    "    \n",
    "A las secuencias se las puede llamar por posición `[0]` de la izquierda a la derecha o con indicadores negativos para empezar por la derecha `[-1]`\n",
    "\n",
    "Podemos usar también **slicing** para llamar a una parte de la secuencia `[0:2]`"
   ]
  },
  {
   "cell_type": "code",
   "execution_count": 4,
   "id": "fe7c81d5-3609-4545-b4d1-aaff98a58a38",
   "metadata": {},
   "outputs": [],
   "source": [
    " import numpy as np\n",
    "S = np.array([1, 3, 5, 7])"
   ]
  },
  {
   "cell_type": "code",
   "execution_count": 6,
   "id": "ae9c0201-8dea-4526-8260-c0cc0146d3b2",
   "metadata": {},
   "outputs": [
    {
     "data": {
      "text/plain": [
       "1"
      ]
     },
     "execution_count": 6,
     "metadata": {},
     "output_type": "execute_result"
    }
   ],
   "source": [
    "S[0]"
   ]
  },
  {
   "cell_type": "code",
   "execution_count": 7,
   "id": "1e4c17ce-a349-4f95-be9a-83fbed11e42d",
   "metadata": {},
   "outputs": [
    {
     "data": {
      "text/plain": [
       "array([1, 3])"
      ]
     },
     "execution_count": 7,
     "metadata": {},
     "output_type": "execute_result"
    }
   ],
   "source": [
    "S[0:2]"
   ]
  },
  {
   "cell_type": "code",
   "execution_count": 8,
   "id": "6a9b39c8-383c-4965-bb76-6d7c16bc13c4",
   "metadata": {},
   "outputs": [
    {
     "data": {
      "text/plain": [
       "7"
      ]
     },
     "execution_count": 8,
     "metadata": {},
     "output_type": "execute_result"
    }
   ],
   "source": [
    "S[-1]"
   ]
  },
  {
   "cell_type": "code",
   "execution_count": 11,
   "id": "9f260b88-3525-4a3e-986e-4424c1348be8",
   "metadata": {},
   "outputs": [
    {
     "data": {
      "text/plain": [
       "array([], dtype=int32)"
      ]
     },
     "execution_count": 11,
     "metadata": {},
     "output_type": "execute_result"
    }
   ],
   "source": [
    "S[-1:2]"
   ]
  },
  {
   "cell_type": "code",
   "execution_count": 12,
   "id": "33928ff2-5d99-4b6c-85a0-b4f09dbaab67",
   "metadata": {},
   "outputs": [
    {
     "data": {
      "text/plain": [
       "1"
      ]
     },
     "execution_count": 12,
     "metadata": {},
     "output_type": "execute_result"
    }
   ],
   "source": [
    "(1,2,3)[-0]"
   ]
  },
  {
   "cell_type": "code",
   "execution_count": 13,
   "id": "7f151a5e-7841-4858-9a49-7510349e53f8",
   "metadata": {},
   "outputs": [
    {
     "data": {
      "text/plain": [
       "()"
      ]
     },
     "execution_count": 13,
     "metadata": {},
     "output_type": "execute_result"
    }
   ],
   "source": [
    "(1,2,3)[-0:0]"
   ]
  },
  {
   "cell_type": "markdown",
   "id": "bfecaa50-81e8-46b0-ae8f-f4bd1039ff5f",
   "metadata": {},
   "source": [
    "### 1.2.2: Lists"
   ]
  },
  {
   "cell_type": "markdown",
   "id": "d7c60056-dbcc-467d-ae4d-a7defab0d45e",
   "metadata": {},
   "source": [
    "Listas son secuencias:  \n",
    "- Mutables\n",
    "- Aceptan elementos de cualquier tipo\n",
    "\n",
    "Normalmente se incluyen elementos de un único tipo, aunque no es obligatorio."
   ]
  },
  {
   "cell_type": "code",
   "execution_count": 14,
   "id": "7c79934a-929a-4604-995c-d8d04e0bbb3d",
   "metadata": {},
   "outputs": [],
   "source": [
    "numbers = [2, 4, 6, 8]"
   ]
  },
  {
   "cell_type": "code",
   "execution_count": 15,
   "id": "b753e904-99eb-4f62-9160-f60e10698a20",
   "metadata": {},
   "outputs": [
    {
     "data": {
      "text/plain": [
       "2"
      ]
     },
     "execution_count": 15,
     "metadata": {},
     "output_type": "execute_result"
    }
   ],
   "source": [
    "numbers[0]"
   ]
  },
  {
   "cell_type": "code",
   "execution_count": 16,
   "id": "f07b8998-389f-47e0-ba72-1e30e1a24514",
   "metadata": {},
   "outputs": [
    {
     "data": {
      "text/plain": [
       "4"
      ]
     },
     "execution_count": 16,
     "metadata": {},
     "output_type": "execute_result"
    }
   ],
   "source": [
    "numbers[1]"
   ]
  },
  {
   "cell_type": "code",
   "execution_count": 17,
   "id": "df642bf7-dece-4693-ba10-d459af2ed4e2",
   "metadata": {},
   "outputs": [
    {
     "data": {
      "text/plain": [
       "8"
      ]
     },
     "execution_count": 17,
     "metadata": {},
     "output_type": "execute_result"
    }
   ],
   "source": [
    "numbers[-1]"
   ]
  },
  {
   "cell_type": "markdown",
   "id": "4abd7410-11d7-4f13-9136-54320239569f",
   "metadata": {},
   "source": [
    "#### Modifying and appending lists"
   ]
  },
  {
   "cell_type": "code",
   "execution_count": 18,
   "id": "b1613243-12b2-45fc-8a5e-f3412d96e430",
   "metadata": {},
   "outputs": [],
   "source": [
    "numbers.append(10)"
   ]
  },
  {
   "cell_type": "code",
   "execution_count": 19,
   "id": "10c820d4-a6b3-443b-a8b0-6bcb6a49f750",
   "metadata": {},
   "outputs": [
    {
     "data": {
      "text/plain": [
       "10"
      ]
     },
     "execution_count": 19,
     "metadata": {},
     "output_type": "execute_result"
    }
   ],
   "source": [
    "numbers[-1]"
   ]
  },
  {
   "cell_type": "code",
   "execution_count": 20,
   "id": "826af015-cd68-4179-8c3d-db6b8b0424c1",
   "metadata": {},
   "outputs": [
    {
     "data": {
      "text/plain": [
       "[2, 4, 6, 8, 10]"
      ]
     },
     "execution_count": 20,
     "metadata": {},
     "output_type": "execute_result"
    }
   ],
   "source": [
    "numbers"
   ]
  },
  {
   "cell_type": "code",
   "execution_count": 21,
   "id": "0239da7d-53fb-4c2f-bdc8-da28bd062e91",
   "metadata": {},
   "outputs": [],
   "source": [
    "x = [12, 14, 16]"
   ]
  },
  {
   "cell_type": "code",
   "execution_count": 22,
   "id": "a9415405-e366-400f-838f-1b887449e610",
   "metadata": {},
   "outputs": [
    {
     "data": {
      "text/plain": [
       "[2, 4, 6, 8, 10, 12, 14, 16]"
      ]
     },
     "execution_count": 22,
     "metadata": {},
     "output_type": "execute_result"
    }
   ],
   "source": [
    "numbers + x"
   ]
  },
  {
   "cell_type": "code",
   "execution_count": 23,
   "id": "68e64467-2286-4b32-8796-3b315ce343f4",
   "metadata": {},
   "outputs": [
    {
     "data": {
      "text/plain": [
       "list"
      ]
     },
     "execution_count": 23,
     "metadata": {},
     "output_type": "execute_result"
    }
   ],
   "source": [
    "type(numbers + x)"
   ]
  },
  {
   "cell_type": "markdown",
   "id": "03aba7d5-1363-4d28-a205-342e877dea0d",
   "metadata": {},
   "source": [
    "#### Reversing content of a list, ordering"
   ]
  },
  {
   "cell_type": "code",
   "execution_count": 24,
   "id": "6e69019a-4c7f-4920-8210-438135cadf7e",
   "metadata": {},
   "outputs": [],
   "source": [
    "numbers = numbers + x"
   ]
  },
  {
   "cell_type": "code",
   "execution_count": 25,
   "id": "bf32cd2e-0f07-4971-a0de-b2f06ea5dc8e",
   "metadata": {},
   "outputs": [
    {
     "data": {
      "text/plain": [
       "[2, 4, 6, 8, 10, 12, 14, 16]"
      ]
     },
     "execution_count": 25,
     "metadata": {},
     "output_type": "execute_result"
    }
   ],
   "source": [
    "numbers"
   ]
  },
  {
   "cell_type": "code",
   "execution_count": 28,
   "id": "9964cb21-f533-4aff-a465-8cf50a6b3ae7",
   "metadata": {},
   "outputs": [],
   "source": [
    "numbers.reverse() # modifica el objeto original"
   ]
  },
  {
   "cell_type": "code",
   "execution_count": 27,
   "id": "2cddb87d-f22d-4c7a-9c26-50b299807171",
   "metadata": {},
   "outputs": [
    {
     "data": {
      "text/plain": [
       "[16, 14, 12, 10, 8, 6, 4, 2]"
      ]
     },
     "execution_count": 27,
     "metadata": {},
     "output_type": "execute_result"
    }
   ],
   "source": [
    "numbers"
   ]
  },
  {
   "cell_type": "code",
   "execution_count": 34,
   "id": "881ea42e-487a-436f-918c-865f77dadecb",
   "metadata": {},
   "outputs": [],
   "source": [
    "names = [\"Sofía\", \"Alex\", \"Morgan\", \"Anthony\"]"
   ]
  },
  {
   "cell_type": "code",
   "execution_count": 37,
   "id": "59c9939a-f15d-42b8-b7d1-c1330093bdbe",
   "metadata": {},
   "outputs": [],
   "source": [
    "names.sort() # ordena en orden alfabético"
   ]
  },
  {
   "cell_type": "code",
   "execution_count": 36,
   "id": "245954a3-fa7a-4bed-a244-bb608d062ca7",
   "metadata": {},
   "outputs": [
    {
     "data": {
      "text/plain": [
       "['Alex', 'Anthony', 'Morgan', 'Sofía']"
      ]
     },
     "execution_count": 36,
     "metadata": {},
     "output_type": "execute_result"
    }
   ],
   "source": [
    "names"
   ]
  },
  {
   "cell_type": "code",
   "execution_count": 38,
   "id": "c644b32d-adf0-44ae-a16b-375434dc8053",
   "metadata": {},
   "outputs": [],
   "source": [
    "names.reverse()"
   ]
  },
  {
   "cell_type": "code",
   "execution_count": 39,
   "id": "da84de12-a0d4-467e-abab-66171332b616",
   "metadata": {},
   "outputs": [
    {
     "data": {
      "text/plain": [
       "['Sofía', 'Morgan', 'Anthony', 'Alex']"
      ]
     },
     "execution_count": 39,
     "metadata": {},
     "output_type": "execute_result"
    }
   ],
   "source": [
    "names"
   ]
  },
  {
   "cell_type": "code",
   "execution_count": 40,
   "id": "1c2536e5-beaf-41cc-9a68-69e16829e02c",
   "metadata": {},
   "outputs": [],
   "source": [
    "sorted_names = sorted(names)"
   ]
  },
  {
   "cell_type": "code",
   "execution_count": 41,
   "id": "782fcd83-b0f5-4d58-9d52-e9385d25b9f6",
   "metadata": {},
   "outputs": [
    {
     "data": {
      "text/plain": [
       "['Alex', 'Anthony', 'Morgan', 'Sofía']"
      ]
     },
     "execution_count": 41,
     "metadata": {},
     "output_type": "execute_result"
    }
   ],
   "source": [
    "sorted_names"
   ]
  },
  {
   "cell_type": "code",
   "execution_count": 42,
   "id": "dfe4f035-3963-4df7-b844-6d089dcfa97e",
   "metadata": {},
   "outputs": [
    {
     "data": {
      "text/plain": [
       "['Sofía', 'Morgan', 'Anthony', 'Alex']"
      ]
     },
     "execution_count": 42,
     "metadata": {},
     "output_type": "execute_result"
    }
   ],
   "source": [
    "names"
   ]
  },
  {
   "cell_type": "code",
   "execution_count": 43,
   "id": "a61614ee-4df1-4c1c-a327-bd4522118bbd",
   "metadata": {},
   "outputs": [
    {
     "data": {
      "text/plain": [
       "4"
      ]
     },
     "execution_count": 43,
     "metadata": {},
     "output_type": "execute_result"
    }
   ],
   "source": [
    "len(names)"
   ]
  },
  {
   "cell_type": "code",
   "execution_count": 44,
   "id": "0f05eb3c-d0fe-451a-9d24-81108bf158e7",
   "metadata": {},
   "outputs": [],
   "source": [
    "x=[1,2,3]"
   ]
  },
  {
   "cell_type": "code",
   "execution_count": 45,
   "id": "67f54416-904a-4a83-a185-53b463a911a3",
   "metadata": {},
   "outputs": [
    {
     "data": {
      "text/plain": [
       "3"
      ]
     },
     "execution_count": 45,
     "metadata": {},
     "output_type": "execute_result"
    }
   ],
   "source": [
    "x[2]"
   ]
  },
  {
   "cell_type": "code",
   "execution_count": 46,
   "id": "cb535baf-a674-41b1-b5bc-b5ae0124b0fb",
   "metadata": {},
   "outputs": [
    {
     "data": {
      "text/plain": [
       "2"
      ]
     },
     "execution_count": 46,
     "metadata": {},
     "output_type": "execute_result"
    }
   ],
   "source": [
    "x[1]"
   ]
  },
  {
   "cell_type": "code",
   "execution_count": 47,
   "id": "ab05cb39-b91b-41fd-8ce1-38231a1889bc",
   "metadata": {},
   "outputs": [],
   "source": [
    "x.append(4)"
   ]
  },
  {
   "cell_type": "code",
   "execution_count": 48,
   "id": "27a89f37-392d-405e-9196-ce20d1b7e36b",
   "metadata": {},
   "outputs": [
    {
     "data": {
      "text/plain": [
       "[1, 2, 3, 4]"
      ]
     },
     "execution_count": 48,
     "metadata": {},
     "output_type": "execute_result"
    }
   ],
   "source": [
    "x"
   ]
  },
  {
   "cell_type": "markdown",
   "id": "19141352-370e-4c2d-bb3b-b4516b2b4854",
   "metadata": {},
   "source": [
    "### 1.2.3: Tuples"
   ]
  },
  {
   "cell_type": "markdown",
   "id": "48e59f76-7980-4906-8e82-b572a4586e5a",
   "metadata": {},
   "source": [
    "Los tuples son secuencias:  \n",
    "\n",
    "- inmutables  \n",
    "- para datos heterogéneos  \n",
    "\n",
    "Son como un único objeto compuesto de varias partes. \n",
    "A diferencia de las listas, que se definen con `[]`, los tuples se definen con `()`"
   ]
  },
  {
   "cell_type": "code",
   "execution_count": 49,
   "id": "40259405-b5c6-4c10-926f-ce9b101d3e67",
   "metadata": {},
   "outputs": [],
   "source": [
    "T = (1,3,5,7)"
   ]
  },
  {
   "cell_type": "code",
   "execution_count": 50,
   "id": "7dbb32b3-2ddf-4510-b3c3-49a282b1638c",
   "metadata": {},
   "outputs": [
    {
     "data": {
      "text/plain": [
       "(1, 3, 5, 7)"
      ]
     },
     "execution_count": 50,
     "metadata": {},
     "output_type": "execute_result"
    }
   ],
   "source": [
    "T"
   ]
  },
  {
   "cell_type": "code",
   "execution_count": 51,
   "id": "0124579f-bcb3-4a65-a286-aa01654bac9b",
   "metadata": {},
   "outputs": [
    {
     "ename": "AttributeError",
     "evalue": "'tuple' object has no attribute 'append'",
     "output_type": "error",
     "traceback": [
      "\u001b[1;31m---------------------------------------------------------------------------\u001b[0m",
      "\u001b[1;31mAttributeError\u001b[0m                            Traceback (most recent call last)",
      "\u001b[1;32m~\\AppData\\Local\\Temp/ipykernel_2216/2791020.py\u001b[0m in \u001b[0;36m<module>\u001b[1;34m\u001b[0m\n\u001b[1;32m----> 1\u001b[1;33m \u001b[0mT\u001b[0m\u001b[1;33m.\u001b[0m\u001b[0mappend\u001b[0m\u001b[1;33m(\u001b[0m\u001b[1;36m9\u001b[0m\u001b[1;33m)\u001b[0m \u001b[1;31m# no debería poder si son inmutables\u001b[0m\u001b[1;33m\u001b[0m\u001b[1;33m\u001b[0m\u001b[0m\n\u001b[0m",
      "\u001b[1;31mAttributeError\u001b[0m: 'tuple' object has no attribute 'append'"
     ]
    }
   ],
   "source": [
    "T.append(9) # no puedo porque son inmutables"
   ]
  },
  {
   "cell_type": "code",
   "execution_count": 52,
   "id": "18944661-6f73-4dad-b4f1-524907043681",
   "metadata": {},
   "outputs": [
    {
     "data": {
      "text/plain": [
       "4"
      ]
     },
     "execution_count": 52,
     "metadata": {},
     "output_type": "execute_result"
    }
   ],
   "source": [
    "len(T)"
   ]
  },
  {
   "cell_type": "code",
   "execution_count": 54,
   "id": "1d69bcf5-b3f7-45d9-8717-51e43f74b0a2",
   "metadata": {},
   "outputs": [
    {
     "data": {
      "text/plain": [
       "(1, 3, 5, 7, 9, 11)"
      ]
     },
     "execution_count": 54,
     "metadata": {},
     "output_type": "execute_result"
    }
   ],
   "source": [
    "T + (9,11) # es un nuevo tuple, no se modifica T"
   ]
  },
  {
   "cell_type": "code",
   "execution_count": 56,
   "id": "a6da6b65-c7ad-45c4-bb31-3a662e4224fa",
   "metadata": {},
   "outputs": [
    {
     "data": {
      "text/plain": [
       "3"
      ]
     },
     "execution_count": 56,
     "metadata": {},
     "output_type": "execute_result"
    }
   ],
   "source": [
    "T[1]"
   ]
  },
  {
   "cell_type": "markdown",
   "id": "294474dd-0323-4e5e-9163-648eba9fffad",
   "metadata": {},
   "source": [
    "#### Packing y unpacking a tuple"
   ]
  },
  {
   "cell_type": "code",
   "execution_count": 57,
   "id": "19ac2240-67b5-4939-9a4c-debc604db04e",
   "metadata": {},
   "outputs": [],
   "source": [
    "x = 12.23"
   ]
  },
  {
   "cell_type": "code",
   "execution_count": 58,
   "id": "84315870-0863-4e0d-8d89-1db0100cfe66",
   "metadata": {},
   "outputs": [],
   "source": [
    "y = 23.34"
   ]
  },
  {
   "cell_type": "code",
   "execution_count": 62,
   "id": "2015a68c-25ed-4734-9568-5b7fbfe6c187",
   "metadata": {},
   "outputs": [],
   "source": [
    "coordinates = (x,y) # se llama \"packing a tuple\", lo creamos desde dos objetos"
   ]
  },
  {
   "cell_type": "code",
   "execution_count": 60,
   "id": "6190cba2-7566-4129-b282-011aa0ee456d",
   "metadata": {},
   "outputs": [
    {
     "data": {
      "text/plain": [
       "tuple"
      ]
     },
     "execution_count": 60,
     "metadata": {},
     "output_type": "execute_result"
    }
   ],
   "source": [
    "type(coordinates)"
   ]
  },
  {
   "cell_type": "code",
   "execution_count": 61,
   "id": "02a132d3-1b39-4c7c-a94c-239dd5ecfe66",
   "metadata": {},
   "outputs": [
    {
     "name": "stdout",
     "output_type": "stream",
     "text": [
      "(12.23, 23.34)\n"
     ]
    }
   ],
   "source": [
    "print(coordinates)"
   ]
  },
  {
   "cell_type": "code",
   "execution_count": 63,
   "id": "220172f4-0465-4fef-a03d-daed6d348fc2",
   "metadata": {},
   "outputs": [],
   "source": [
    "(c1,c2) = coordinates # esto es lo contrario \"unpacking a tuple\" y asignarlo por separado"
   ]
  },
  {
   "cell_type": "code",
   "execution_count": 64,
   "id": "9856036c-86c9-4a63-ba1b-3120721e10e1",
   "metadata": {},
   "outputs": [
    {
     "data": {
      "text/plain": [
       "12.23"
      ]
     },
     "execution_count": 64,
     "metadata": {},
     "output_type": "execute_result"
    }
   ],
   "source": [
    "c1"
   ]
  },
  {
   "cell_type": "code",
   "execution_count": 65,
   "id": "d9a40da1-5336-497d-862d-ebd57c9b9532",
   "metadata": {},
   "outputs": [
    {
     "data": {
      "text/plain": [
       "23.34"
      ]
     },
     "execution_count": 65,
     "metadata": {},
     "output_type": "execute_result"
    }
   ],
   "source": [
    "c2"
   ]
  },
  {
   "cell_type": "code",
   "execution_count": 66,
   "id": "2f01a642-0c4b-471d-83d2-cb9f8c7a66f0",
   "metadata": {},
   "outputs": [
    {
     "data": {
      "text/plain": [
       "(12.23, 23.34)"
      ]
     },
     "execution_count": 66,
     "metadata": {},
     "output_type": "execute_result"
    }
   ],
   "source": [
    "coordinates"
   ]
  },
  {
   "cell_type": "markdown",
   "id": "52027c9c-021a-4a09-ac9c-05b42cc8dc8e",
   "metadata": {},
   "source": [
    "También podemos trabajar con listas de tuples."
   ]
  },
  {
   "cell_type": "code",
   "execution_count": 67,
   "id": "d5d7f4f0-9196-4e49-bf80-503e6784c556",
   "metadata": {},
   "outputs": [],
   "source": [
    "coordinates = [(12, 23), (14, 48), (7, 67)]"
   ]
  },
  {
   "cell_type": "code",
   "execution_count": 68,
   "id": "010f797e-b50b-4816-b4d2-f6f0cf60de40",
   "metadata": {},
   "outputs": [
    {
     "data": {
      "text/plain": [
       "[(12, 23), (14, 48), (7, 67)]"
      ]
     },
     "execution_count": 68,
     "metadata": {},
     "output_type": "execute_result"
    }
   ],
   "source": [
    "coordinates"
   ]
  },
  {
   "cell_type": "code",
   "execution_count": 69,
   "id": "c426dd36-5c55-4f87-8f72-4aa08976a933",
   "metadata": {},
   "outputs": [
    {
     "name": "stdout",
     "output_type": "stream",
     "text": [
      "12 23\n",
      "14 48\n",
      "7 67\n"
     ]
    }
   ],
   "source": [
    "for (x, y) in coordinates:\n",
    "    print(x,y)"
   ]
  },
  {
   "cell_type": "code",
   "execution_count": 70,
   "id": "14830606-b153-4f9c-84e2-5e2834924d75",
   "metadata": {},
   "outputs": [],
   "source": [
    "x=(1,2,3)"
   ]
  },
  {
   "cell_type": "code",
   "execution_count": 71,
   "id": "fb3ea29b-5d2d-45d4-8e85-9bd06050bc48",
   "metadata": {},
   "outputs": [
    {
     "ename": "TypeError",
     "evalue": "can only concatenate tuple (not \"int\") to tuple",
     "output_type": "error",
     "traceback": [
      "\u001b[1;31m---------------------------------------------------------------------------\u001b[0m",
      "\u001b[1;31mTypeError\u001b[0m                                 Traceback (most recent call last)",
      "\u001b[1;32m~\\AppData\\Local\\Temp/ipykernel_2216/2297884782.py\u001b[0m in \u001b[0;36m<module>\u001b[1;34m\u001b[0m\n\u001b[1;32m----> 1\u001b[1;33m \u001b[0mx\u001b[0m \u001b[1;33m+\u001b[0m \u001b[1;36m4\u001b[0m\u001b[1;33m\u001b[0m\u001b[1;33m\u001b[0m\u001b[0m\n\u001b[0m",
      "\u001b[1;31mTypeError\u001b[0m: can only concatenate tuple (not \"int\") to tuple"
     ]
    }
   ],
   "source": [
    "x + 4"
   ]
  },
  {
   "cell_type": "code",
   "execution_count": 72,
   "id": "8b0f095a-722c-49ce-92b6-0b3ea8ca8722",
   "metadata": {},
   "outputs": [],
   "source": [
    "y =(4,)"
   ]
  },
  {
   "cell_type": "code",
   "execution_count": 73,
   "id": "4d1b9ea5-e37e-4d4a-9ed0-4018cf0109c8",
   "metadata": {},
   "outputs": [
    {
     "data": {
      "text/plain": [
       "(1, 2, 3, 4)"
      ]
     },
     "execution_count": 73,
     "metadata": {},
     "output_type": "execute_result"
    }
   ],
   "source": [
    "x + y"
   ]
  },
  {
   "cell_type": "code",
   "execution_count": 75,
   "id": "c9e3a6a8-deab-434f-85d8-c81b3ea802f4",
   "metadata": {},
   "outputs": [
    {
     "data": {
      "text/plain": [
       "1"
      ]
     },
     "execution_count": 75,
     "metadata": {},
     "output_type": "execute_result"
    }
   ],
   "source": [
    "x.count(3)"
   ]
  },
  {
   "cell_type": "code",
   "execution_count": 77,
   "id": "2f60304d-a0f7-4a23-9fbe-5713a0c99c8a",
   "metadata": {},
   "outputs": [
    {
     "data": {
      "text/plain": [
       "6"
      ]
     },
     "execution_count": 77,
     "metadata": {},
     "output_type": "execute_result"
    }
   ],
   "source": [
    "sum(x)"
   ]
  },
  {
   "cell_type": "code",
   "execution_count": 78,
   "id": "dce3eba2-9ddc-4e1f-9889-7325543fd629",
   "metadata": {},
   "outputs": [
    {
     "data": {
      "text/plain": [
       "int"
      ]
     },
     "execution_count": 78,
     "metadata": {},
     "output_type": "execute_result"
    }
   ],
   "source": [
    "type(2)"
   ]
  },
  {
   "cell_type": "code",
   "execution_count": 79,
   "id": "6cc4058b-4bac-495d-9b2b-30a723b72a75",
   "metadata": {},
   "outputs": [
    {
     "data": {
      "text/plain": [
       "int"
      ]
     },
     "execution_count": 79,
     "metadata": {},
     "output_type": "execute_result"
    }
   ],
   "source": [
    "type((2))"
   ]
  },
  {
   "cell_type": "code",
   "execution_count": 80,
   "id": "c4b6ae4d-de12-4d67-8b77-2bf40ad77cc9",
   "metadata": {},
   "outputs": [
    {
     "data": {
      "text/plain": [
       "int"
      ]
     },
     "execution_count": 80,
     "metadata": {},
     "output_type": "execute_result"
    }
   ],
   "source": [
    "type(2,)"
   ]
  },
  {
   "cell_type": "code",
   "execution_count": 81,
   "id": "f2d38948-d7ec-4366-bf14-7c613d25c517",
   "metadata": {},
   "outputs": [
    {
     "data": {
      "text/plain": [
       "tuple"
      ]
     },
     "execution_count": 81,
     "metadata": {},
     "output_type": "execute_result"
    }
   ],
   "source": [
    "type((2,))"
   ]
  },
  {
   "cell_type": "markdown",
   "id": "a5a69f13-c256-4b9f-ab01-890a9705a919",
   "metadata": {},
   "source": [
    "### 1.2.4: Ranges"
   ]
  },
  {
   "cell_type": "markdown",
   "id": "56068dc4-d9ba-4c0e-b703-82e8716e6c0d",
   "metadata": {},
   "source": [
    "Revisión de cómo crear objetos de rango. Los rangos son:\n",
    "\n",
    "- secuencias inmutables\n",
    "- compuestos de integros\n",
    "\n",
    "Se usan mucho en los loops."
   ]
  },
  {
   "cell_type": "code",
   "execution_count": 82,
   "id": "9078979e-d67c-426e-bf7e-4f2e5d3ae287",
   "metadata": {},
   "outputs": [
    {
     "data": {
      "text/plain": [
       "range(0, 5)"
      ]
     },
     "execution_count": 82,
     "metadata": {},
     "output_type": "execute_result"
    }
   ],
   "source": [
    "range(5)"
   ]
  },
  {
   "cell_type": "code",
   "execution_count": 83,
   "id": "88a96dba-93e3-4b41-b6c9-d12dc13d4948",
   "metadata": {},
   "outputs": [
    {
     "data": {
      "text/plain": [
       "[0, 1, 2, 3, 4]"
      ]
     },
     "execution_count": 83,
     "metadata": {},
     "output_type": "execute_result"
    }
   ],
   "source": [
    "list(range(5))"
   ]
  },
  {
   "cell_type": "code",
   "execution_count": 84,
   "id": "b1d94770-6f57-4f19-a6a6-149bf0ad0c00",
   "metadata": {},
   "outputs": [
    {
     "data": {
      "text/plain": [
       "[1, 2, 3, 4, 5]"
      ]
     },
     "execution_count": 84,
     "metadata": {},
     "output_type": "execute_result"
    }
   ],
   "source": [
    "list(range(1,6))"
   ]
  },
  {
   "cell_type": "code",
   "execution_count": 85,
   "id": "7134ed4c-2d01-4040-a749-9b7b1eafaeae",
   "metadata": {},
   "outputs": [
    {
     "data": {
      "text/plain": [
       "[1, 3, 5, 7, 9, 11]"
      ]
     },
     "execution_count": 85,
     "metadata": {},
     "output_type": "execute_result"
    }
   ],
   "source": [
    "list(range(1,13, 2))"
   ]
  },
  {
   "cell_type": "markdown",
   "id": "248a5e36-37f9-40f3-809a-5038eefad6db",
   "metadata": {},
   "source": [
    "### 1.2.5: Strings"
   ]
  },
  {
   "cell_type": "markdown",
   "id": "2e0344c0-45d2-4b40-a314-bdf67476f553",
   "metadata": {},
   "source": [
    "Strings son secuencias:\n",
    "\n",
    "- inmutables\n",
    "- de caracteres\n",
    "\n",
    "se pueden poner con comillas simples, dobles o triples."
   ]
  },
  {
   "cell_type": "code",
   "execution_count": 86,
   "id": "c0673a42-71a6-46f9-8ac3-74be8cd22a24",
   "metadata": {},
   "outputs": [],
   "source": [
    "name = \"Monica\""
   ]
  },
  {
   "cell_type": "code",
   "execution_count": 87,
   "id": "d372f86a-cf7c-4b8e-8191-420c9d525fb8",
   "metadata": {},
   "outputs": [
    {
     "data": {
      "text/plain": [
       "'Monica'"
      ]
     },
     "execution_count": 87,
     "metadata": {},
     "output_type": "execute_result"
    }
   ],
   "source": [
    "name"
   ]
  },
  {
   "cell_type": "code",
   "execution_count": 88,
   "id": "060e4caf-71c0-4c53-8425-fd8f81835042",
   "metadata": {},
   "outputs": [
    {
     "data": {
      "text/plain": [
       "6"
      ]
     },
     "execution_count": 88,
     "metadata": {},
     "output_type": "execute_result"
    }
   ],
   "source": [
    "len(name)"
   ]
  },
  {
   "cell_type": "code",
   "execution_count": 90,
   "id": "5388592b-7a73-43b4-a68c-26cd817a2481",
   "metadata": {},
   "outputs": [
    {
     "data": {
      "text/plain": [
       "'a'"
      ]
     },
     "execution_count": 90,
     "metadata": {},
     "output_type": "execute_result"
    }
   ],
   "source": [
    "name[-1]"
   ]
  },
  {
   "cell_type": "code",
   "execution_count": 91,
   "id": "219f11d7-bf8e-4522-8669-c723ae459e01",
   "metadata": {},
   "outputs": [
    {
     "data": {
      "text/plain": [
       "'Mo'"
      ]
     },
     "execution_count": 91,
     "metadata": {},
     "output_type": "execute_result"
    }
   ],
   "source": [
    "name[0:2]"
   ]
  },
  {
   "cell_type": "code",
   "execution_count": 93,
   "id": "96b55322-2cfb-47c3-bf8f-cb6a6d519512",
   "metadata": {},
   "outputs": [
    {
     "data": {
      "text/plain": [
       "'ica'"
      ]
     },
     "execution_count": 93,
     "metadata": {},
     "output_type": "execute_result"
    }
   ],
   "source": [
    "name[-3:]"
   ]
  },
  {
   "cell_type": "code",
   "execution_count": 94,
   "id": "1baae784-880f-410c-ae41-725afd071ff0",
   "metadata": {},
   "outputs": [
    {
     "data": {
      "text/plain": [
       "True"
      ]
     },
     "execution_count": 94,
     "metadata": {},
     "output_type": "execute_result"
    }
   ],
   "source": [
    "\"n\" in name"
   ]
  },
  {
   "cell_type": "code",
   "execution_count": 95,
   "id": "3737378f-50a3-4841-86e3-04f90cb99623",
   "metadata": {},
   "outputs": [
    {
     "data": {
      "text/plain": [
       "False"
      ]
     },
     "execution_count": 95,
     "metadata": {},
     "output_type": "execute_result"
    }
   ],
   "source": [
    "\"y\" in name"
   ]
  },
  {
   "cell_type": "code",
   "execution_count": 96,
   "id": "e522f8d0-0a7c-4eae-b73b-73a174c7eb61",
   "metadata": {},
   "outputs": [
    {
     "data": {
      "text/plain": [
       "'icaica'"
      ]
     },
     "execution_count": 96,
     "metadata": {},
     "output_type": "execute_result"
    }
   ],
   "source": [
    "name[-3:] + name[-3:]"
   ]
  },
  {
   "cell_type": "code",
   "execution_count": 97,
   "id": "2964be3d-972a-4747-ad28-dfec806bc894",
   "metadata": {},
   "outputs": [
    {
     "data": {
      "text/plain": [
       "'hello Mónica'"
      ]
     },
     "execution_count": 97,
     "metadata": {},
     "output_type": "execute_result"
    }
   ],
   "source": [
    "\"hello\" + \" Mónica\""
   ]
  },
  {
   "cell_type": "code",
   "execution_count": 98,
   "id": "8723d312-f319-498f-9461-43dfcafc2cca",
   "metadata": {},
   "outputs": [
    {
     "data": {
      "text/plain": [
       "'MonicaMonicaMonica'"
      ]
     },
     "execution_count": 98,
     "metadata": {},
     "output_type": "execute_result"
    }
   ],
   "source": [
    "3 * name"
   ]
  },
  {
   "cell_type": "code",
   "execution_count": 99,
   "id": "92046072-da02-42aa-a6c8-9e09124e8b4d",
   "metadata": {},
   "outputs": [
    {
     "ename": "TypeError",
     "evalue": "can only concatenate str (not \"int\") to str",
     "output_type": "error",
     "traceback": [
      "\u001b[1;31m---------------------------------------------------------------------------\u001b[0m",
      "\u001b[1;31mTypeError\u001b[0m                                 Traceback (most recent call last)",
      "\u001b[1;32m~\\AppData\\Local\\Temp/ipykernel_2216/1321424164.py\u001b[0m in \u001b[0;36m<module>\u001b[1;34m\u001b[0m\n\u001b[1;32m----> 1\u001b[1;33m \u001b[0mname\u001b[0m \u001b[1;33m+\u001b[0m \u001b[1;36m3\u001b[0m\u001b[1;33m\u001b[0m\u001b[1;33m\u001b[0m\u001b[0m\n\u001b[0m",
      "\u001b[1;31mTypeError\u001b[0m: can only concatenate str (not \"int\") to str"
     ]
    }
   ],
   "source": [
    "name + 3"
   ]
  },
  {
   "cell_type": "code",
   "execution_count": 100,
   "id": "ee043a31-19a2-4adc-9385-4eddc425fed6",
   "metadata": {},
   "outputs": [
    {
     "data": {
      "text/plain": [
       "'Monica3'"
      ]
     },
     "execution_count": 100,
     "metadata": {},
     "output_type": "execute_result"
    }
   ],
   "source": [
    "name + \"3\""
   ]
  },
  {
   "cell_type": "code",
   "execution_count": 101,
   "id": "baae03f9-80c1-4996-8322-0938c6e5d5d7",
   "metadata": {},
   "outputs": [
    {
     "data": {
      "text/plain": [
       "['__add__',\n",
       " '__class__',\n",
       " '__contains__',\n",
       " '__delattr__',\n",
       " '__dir__',\n",
       " '__doc__',\n",
       " '__eq__',\n",
       " '__format__',\n",
       " '__ge__',\n",
       " '__getattribute__',\n",
       " '__getitem__',\n",
       " '__getnewargs__',\n",
       " '__gt__',\n",
       " '__hash__',\n",
       " '__init__',\n",
       " '__init_subclass__',\n",
       " '__iter__',\n",
       " '__le__',\n",
       " '__len__',\n",
       " '__lt__',\n",
       " '__mod__',\n",
       " '__mul__',\n",
       " '__ne__',\n",
       " '__new__',\n",
       " '__reduce__',\n",
       " '__reduce_ex__',\n",
       " '__repr__',\n",
       " '__rmod__',\n",
       " '__rmul__',\n",
       " '__setattr__',\n",
       " '__sizeof__',\n",
       " '__str__',\n",
       " '__subclasshook__',\n",
       " 'capitalize',\n",
       " 'casefold',\n",
       " 'center',\n",
       " 'count',\n",
       " 'encode',\n",
       " 'endswith',\n",
       " 'expandtabs',\n",
       " 'find',\n",
       " 'format',\n",
       " 'format_map',\n",
       " 'index',\n",
       " 'isalnum',\n",
       " 'isalpha',\n",
       " 'isascii',\n",
       " 'isdecimal',\n",
       " 'isdigit',\n",
       " 'isidentifier',\n",
       " 'islower',\n",
       " 'isnumeric',\n",
       " 'isprintable',\n",
       " 'isspace',\n",
       " 'istitle',\n",
       " 'isupper',\n",
       " 'join',\n",
       " 'ljust',\n",
       " 'lower',\n",
       " 'lstrip',\n",
       " 'maketrans',\n",
       " 'partition',\n",
       " 'removeprefix',\n",
       " 'removesuffix',\n",
       " 'replace',\n",
       " 'rfind',\n",
       " 'rindex',\n",
       " 'rjust',\n",
       " 'rpartition',\n",
       " 'rsplit',\n",
       " 'rstrip',\n",
       " 'split',\n",
       " 'splitlines',\n",
       " 'startswith',\n",
       " 'strip',\n",
       " 'swapcase',\n",
       " 'title',\n",
       " 'translate',\n",
       " 'upper',\n",
       " 'zfill']"
      ]
     },
     "execution_count": 101,
     "metadata": {},
     "output_type": "execute_result"
    }
   ],
   "source": [
    "dir(str)"
   ]
  },
  {
   "cell_type": "code",
   "execution_count": 102,
   "id": "9e28bbf4-ace3-4004-a017-abc62a152522",
   "metadata": {},
   "outputs": [
    {
     "data": {
      "text/plain": [
       "\u001b[1;31mSignature:\u001b[0m \u001b[0mstr\u001b[0m\u001b[1;33m.\u001b[0m\u001b[0mreplace\u001b[0m\u001b[1;33m(\u001b[0m\u001b[0mself\u001b[0m\u001b[1;33m,\u001b[0m \u001b[0mold\u001b[0m\u001b[1;33m,\u001b[0m \u001b[0mnew\u001b[0m\u001b[1;33m,\u001b[0m \u001b[0mcount\u001b[0m\u001b[1;33m=\u001b[0m\u001b[1;33m-\u001b[0m\u001b[1;36m1\u001b[0m\u001b[1;33m,\u001b[0m \u001b[1;33m/\u001b[0m\u001b[1;33m)\u001b[0m\u001b[1;33m\u001b[0m\u001b[1;33m\u001b[0m\u001b[0m\n",
       "\u001b[1;31mDocstring:\u001b[0m\n",
       "Return a copy with all occurrences of substring old replaced by new.\n",
       "\n",
       "  count\n",
       "    Maximum number of occurrences to replace.\n",
       "    -1 (the default value) means replace all occurrences.\n",
       "\n",
       "If the optional argument count is given, only the first count occurrences are\n",
       "replaced.\n",
       "\u001b[1;31mType:\u001b[0m      method_descriptor\n"
      ]
     },
     "metadata": {},
     "output_type": "display_data"
    }
   ],
   "source": [
    "str.replace?"
   ]
  },
  {
   "cell_type": "code",
   "execution_count": 103,
   "id": "ac5e6abd-13a2-41e2-9f31-c02c4ed756c5",
   "metadata": {},
   "outputs": [],
   "source": [
    "name = \"Monica\""
   ]
  },
  {
   "cell_type": "code",
   "execution_count": 104,
   "id": "193588ac-3518-4c9e-aa2b-e07bb62923c8",
   "metadata": {},
   "outputs": [
    {
     "data": {
      "text/plain": [
       "'Tonica'"
      ]
     },
     "execution_count": 104,
     "metadata": {},
     "output_type": "execute_result"
    }
   ],
   "source": [
    "name.replace(\"M\", \"T\")"
   ]
  },
  {
   "cell_type": "code",
   "execution_count": 105,
   "id": "2a76f0d7-6554-4bc7-b9ce-759c5bfe6df3",
   "metadata": {},
   "outputs": [
    {
     "data": {
      "text/plain": [
       "\u001b[1;31mSignature:\u001b[0m \u001b[0mstr\u001b[0m\u001b[1;33m.\u001b[0m\u001b[0msplit\u001b[0m\u001b[1;33m(\u001b[0m\u001b[0mself\u001b[0m\u001b[1;33m,\u001b[0m \u001b[1;33m/\u001b[0m\u001b[1;33m,\u001b[0m \u001b[0msep\u001b[0m\u001b[1;33m=\u001b[0m\u001b[1;32mNone\u001b[0m\u001b[1;33m,\u001b[0m \u001b[0mmaxsplit\u001b[0m\u001b[1;33m=\u001b[0m\u001b[1;33m-\u001b[0m\u001b[1;36m1\u001b[0m\u001b[1;33m)\u001b[0m\u001b[1;33m\u001b[0m\u001b[1;33m\u001b[0m\u001b[0m\n",
       "\u001b[1;31mDocstring:\u001b[0m\n",
       "Return a list of the words in the string, using sep as the delimiter string.\n",
       "\n",
       "sep\n",
       "  The delimiter according which to split the string.\n",
       "  None (the default value) means split according to any whitespace,\n",
       "  and discard empty strings from the result.\n",
       "maxsplit\n",
       "  Maximum number of splits to do.\n",
       "  -1 (the default value) means no limit.\n",
       "\u001b[1;31mType:\u001b[0m      method_descriptor\n"
      ]
     },
     "metadata": {},
     "output_type": "display_data"
    }
   ],
   "source": [
    "str.split?"
   ]
  },
  {
   "cell_type": "code",
   "execution_count": 106,
   "id": "a099946d-c849-4e85-b324-b8bd4d792476",
   "metadata": {},
   "outputs": [],
   "source": [
    "name = \"Mónica Cortiñas\""
   ]
  },
  {
   "cell_type": "code",
   "execution_count": 107,
   "id": "375cae5e-fb99-4943-963d-b460af842b8d",
   "metadata": {},
   "outputs": [],
   "source": [
    "names = name.split(\" \")"
   ]
  },
  {
   "cell_type": "code",
   "execution_count": 108,
   "id": "f6a7552c-b1ee-4218-b7b9-652d08db2180",
   "metadata": {},
   "outputs": [
    {
     "data": {
      "text/plain": [
       "['Mónica', 'Cortiñas']"
      ]
     },
     "execution_count": 108,
     "metadata": {},
     "output_type": "execute_result"
    }
   ],
   "source": [
    "names"
   ]
  },
  {
   "cell_type": "code",
   "execution_count": 109,
   "id": "5c175275-714d-4021-a4bf-471c655c30a8",
   "metadata": {},
   "outputs": [
    {
     "data": {
      "text/plain": [
       "list"
      ]
     },
     "execution_count": 109,
     "metadata": {},
     "output_type": "execute_result"
    }
   ],
   "source": [
    "type(names)"
   ]
  },
  {
   "cell_type": "code",
   "execution_count": 110,
   "id": "246bc690-2d50-482b-937f-35e3e6e557d4",
   "metadata": {},
   "outputs": [
    {
     "data": {
      "text/plain": [
       "str"
      ]
     },
     "execution_count": 110,
     "metadata": {},
     "output_type": "execute_result"
    }
   ],
   "source": [
    "type(names[0])"
   ]
  },
  {
   "cell_type": "code",
   "execution_count": 111,
   "id": "511b9404-ea9d-46cd-a7cc-2b346308067e",
   "metadata": {},
   "outputs": [
    {
     "data": {
      "text/plain": [
       "'MÓNICA'"
      ]
     },
     "execution_count": 111,
     "metadata": {},
     "output_type": "execute_result"
    }
   ],
   "source": [
    "names[0].upper()"
   ]
  },
  {
   "cell_type": "code",
   "execution_count": 112,
   "id": "161495fc-b57b-4397-ad47-ff137a5c88fa",
   "metadata": {},
   "outputs": [
    {
     "data": {
      "text/plain": [
       "4"
      ]
     },
     "execution_count": 112,
     "metadata": {},
     "output_type": "execute_result"
    }
   ],
   "source": [
    "2+2"
   ]
  },
  {
   "cell_type": "code",
   "execution_count": 113,
   "id": "74b2e87e-ceaf-4a42-ad07-87a8b137b769",
   "metadata": {},
   "outputs": [
    {
     "data": {
      "text/plain": [
       "'22'"
      ]
     },
     "execution_count": 113,
     "metadata": {},
     "output_type": "execute_result"
    }
   ],
   "source": [
    "\"2\"+\"2\""
   ]
  },
  {
   "cell_type": "code",
   "execution_count": 114,
   "id": "edce931b-fda6-4335-b712-71960e835f25",
   "metadata": {},
   "outputs": [
    {
     "ename": "TypeError",
     "evalue": "unsupported operand type(s) for +: 'int' and 'str'",
     "output_type": "error",
     "traceback": [
      "\u001b[1;31m---------------------------------------------------------------------------\u001b[0m",
      "\u001b[1;31mTypeError\u001b[0m                                 Traceback (most recent call last)",
      "\u001b[1;32m~\\AppData\\Local\\Temp/ipykernel_2216/1323183504.py\u001b[0m in \u001b[0;36m<module>\u001b[1;34m\u001b[0m\n\u001b[1;32m----> 1\u001b[1;33m \u001b[1;36m2\u001b[0m\u001b[1;33m+\u001b[0m\u001b[1;34m\"2\"\u001b[0m\u001b[1;33m\u001b[0m\u001b[1;33m\u001b[0m\u001b[0m\n\u001b[0m",
      "\u001b[1;31mTypeError\u001b[0m: unsupported operand type(s) for +: 'int' and 'str'"
     ]
    }
   ],
   "source": [
    "2+\"2\""
   ]
  },
  {
   "cell_type": "code",
   "execution_count": 115,
   "id": "aa39e036-0055-44c7-8925-14bd4cb3ccee",
   "metadata": {},
   "outputs": [
    {
     "data": {
      "text/plain": [
       "4"
      ]
     },
     "execution_count": 115,
     "metadata": {},
     "output_type": "execute_result"
    }
   ],
   "source": [
    "2*2"
   ]
  },
  {
   "cell_type": "code",
   "execution_count": 116,
   "id": "a4975337-dc44-4a0b-8388-4cde0ce1268b",
   "metadata": {},
   "outputs": [
    {
     "ename": "TypeError",
     "evalue": "can't multiply sequence by non-int of type 'str'",
     "output_type": "error",
     "traceback": [
      "\u001b[1;31m---------------------------------------------------------------------------\u001b[0m",
      "\u001b[1;31mTypeError\u001b[0m                                 Traceback (most recent call last)",
      "\u001b[1;32m~\\AppData\\Local\\Temp/ipykernel_2216/3290336002.py\u001b[0m in \u001b[0;36m<module>\u001b[1;34m\u001b[0m\n\u001b[1;32m----> 1\u001b[1;33m \u001b[1;34m\"2\"\u001b[0m\u001b[1;33m*\u001b[0m\u001b[1;34m\"2\"\u001b[0m\u001b[1;33m\u001b[0m\u001b[1;33m\u001b[0m\u001b[0m\n\u001b[0m",
      "\u001b[1;31mTypeError\u001b[0m: can't multiply sequence by non-int of type 'str'"
     ]
    }
   ],
   "source": [
    "\"2\"*\"2\""
   ]
  },
  {
   "cell_type": "code",
   "execution_count": 117,
   "id": "aac92e03-91cc-4964-8cda-47554defd905",
   "metadata": {},
   "outputs": [
    {
     "data": {
      "text/plain": [
       "'22'"
      ]
     },
     "execution_count": 117,
     "metadata": {},
     "output_type": "execute_result"
    }
   ],
   "source": [
    "\"2\"*2"
   ]
  },
  {
   "cell_type": "code",
   "execution_count": 118,
   "id": "32d828cf-25e1-4ebc-9b36-311bdde377fe",
   "metadata": {},
   "outputs": [
    {
     "data": {
      "text/plain": [
       "'0123456789'"
      ]
     },
     "execution_count": 118,
     "metadata": {},
     "output_type": "execute_result"
    }
   ],
   "source": [
    "\"0\"+\"1\"+\"2\"+\"3\"+\"4\"+\"5\"+\"6\"+\"7\"+\"8\"+\"9\""
   ]
  },
  {
   "cell_type": "code",
   "execution_count": 119,
   "id": "51cc9e29-2438-40e0-b81e-8dfbb655042e",
   "metadata": {},
   "outputs": [
    {
     "data": {
      "text/plain": [
       "'0123456789'"
      ]
     },
     "execution_count": 119,
     "metadata": {},
     "output_type": "execute_result"
    }
   ],
   "source": [
    "\"\".join([str(i) for i in range(10)])"
   ]
  },
  {
   "cell_type": "code",
   "execution_count": 120,
   "id": "73d7abc3-f519-4126-b928-2a43e297a772",
   "metadata": {},
   "outputs": [
    {
     "data": {
      "text/plain": [
       "'range(0, 10)'"
      ]
     },
     "execution_count": 120,
     "metadata": {},
     "output_type": "execute_result"
    }
   ],
   "source": [
    "str(range(10))"
   ]
  },
  {
   "cell_type": "code",
   "execution_count": 121,
   "id": "12c60754-7f3f-4e5e-92f1-eb744aee7daa",
   "metadata": {},
   "outputs": [],
   "source": [
    "import string"
   ]
  },
  {
   "cell_type": "code",
   "execution_count": 122,
   "id": "1572e692-8ca2-4f99-93eb-c809a1061eba",
   "metadata": {},
   "outputs": [
    {
     "data": {
      "text/plain": [
       "'0123456789'"
      ]
     },
     "execution_count": 122,
     "metadata": {},
     "output_type": "execute_result"
    }
   ],
   "source": [
    "string.digits"
   ]
  },
  {
   "cell_type": "code",
   "execution_count": 123,
   "id": "1fc874f1-78bd-48af-8142-9ef0a047056e",
   "metadata": {},
   "outputs": [],
   "source": [
    "x = \"125,000\""
   ]
  },
  {
   "cell_type": "code",
   "execution_count": 124,
   "id": "f7888ad2-f9c5-440e-b3c8-83e791166eac",
   "metadata": {},
   "outputs": [
    {
     "data": {
      "text/plain": [
       "False"
      ]
     },
     "execution_count": 124,
     "metadata": {},
     "output_type": "execute_result"
    }
   ],
   "source": [
    "x.isdigit()"
   ]
  },
  {
   "cell_type": "markdown",
   "id": "78bae6ad-c55e-4011-8ca7-efdc87637a3b",
   "metadata": {},
   "source": [
    "### 1.2.6: Sets"
   ]
  },
  {
   "cell_type": "markdown",
   "id": "72b9a3f9-6825-42b0-9940-dd79614e4e44",
   "metadata": {},
   "source": [
    "Los sets son:\n",
    "\n",
    "- colecciones no ordenadas\n",
    "- de ítems distintos que tienen un hash (se puede usar para objetos inmutables)\n",
    "\n",
    "Hay de dos tipos:\n",
    "\n",
    "- normal set: es mutable  \n",
    "- frozen set: is inmutable una vez creado\n",
    "\n",
    "Los elementos dentro no están indexados, por lo que no se pueden señalar. Todos los objetos dentro de un set son únicos o distintos.\n",
    "Son útiles para almacenar objetos distintos y hacer operaciones de conjuntos, como unión, intersección y diferencia."
   ]
  },
  {
   "cell_type": "code",
   "execution_count": 1,
   "id": "99b666b5-f16a-4113-bc3a-be1c2572f957",
   "metadata": {},
   "outputs": [],
   "source": [
    "ids = set()"
   ]
  },
  {
   "cell_type": "code",
   "execution_count": 2,
   "id": "98ced93b-5ea6-4342-9eb4-2f83993e95eb",
   "metadata": {},
   "outputs": [
    {
     "data": {
      "text/plain": [
       "'set()'"
      ]
     },
     "execution_count": 2,
     "metadata": {},
     "output_type": "execute_result"
    }
   ],
   "source": [
    "str(ids)"
   ]
  },
  {
   "cell_type": "code",
   "execution_count": 3,
   "id": "7a8a08c8-d563-43e5-9f06-f6d9f67e2179",
   "metadata": {},
   "outputs": [],
   "source": [
    "ids = set([1, 2, 4, 6, 7, 8, 9])"
   ]
  },
  {
   "cell_type": "code",
   "execution_count": 5,
   "id": "5ed27994-265e-4f93-aef5-524ac1022566",
   "metadata": {},
   "outputs": [
    {
     "data": {
      "text/plain": [
       "{1, 2, 4, 6, 7, 8, 9}"
      ]
     },
     "execution_count": 5,
     "metadata": {},
     "output_type": "execute_result"
    }
   ],
   "source": [
    "ids"
   ]
  },
  {
   "cell_type": "code",
   "execution_count": 6,
   "id": "2b7587a9-ab91-463e-a6b3-6719c7d3d186",
   "metadata": {},
   "outputs": [
    {
     "data": {
      "text/plain": [
       "7"
      ]
     },
     "execution_count": 6,
     "metadata": {},
     "output_type": "execute_result"
    }
   ],
   "source": [
    "len(ids)"
   ]
  },
  {
   "cell_type": "code",
   "execution_count": 8,
   "id": "55df3c3a-b8e5-411a-9ae9-75d596d09f60",
   "metadata": {},
   "outputs": [],
   "source": [
    "ids.add(10)"
   ]
  },
  {
   "cell_type": "code",
   "execution_count": 9,
   "id": "9313d06a-186e-4aa3-b95d-3f8253d02b22",
   "metadata": {},
   "outputs": [
    {
     "data": {
      "text/plain": [
       "{1, 2, 4, 6, 7, 8, 9, 10}"
      ]
     },
     "execution_count": 9,
     "metadata": {},
     "output_type": "execute_result"
    }
   ],
   "source": [
    "ids"
   ]
  },
  {
   "cell_type": "code",
   "execution_count": 10,
   "id": "ac42557c-263e-4782-bc53-0ee5236d6429",
   "metadata": {},
   "outputs": [],
   "source": [
    "ids.add(2)"
   ]
  },
  {
   "cell_type": "code",
   "execution_count": 11,
   "id": "bdb55c64-bfa5-4340-a6eb-80f51a48b023",
   "metadata": {},
   "outputs": [
    {
     "data": {
      "text/plain": [
       "{1, 2, 4, 6, 7, 8, 9, 10}"
      ]
     },
     "execution_count": 11,
     "metadata": {},
     "output_type": "execute_result"
    }
   ],
   "source": [
    "ids"
   ]
  },
  {
   "cell_type": "markdown",
   "id": "eaf025c5-c259-4033-b51b-4e14513b8fef",
   "metadata": {},
   "source": [
    "Si añadimos un elemento que ya existe, no pasa nada, se queda igual"
   ]
  },
  {
   "cell_type": "code",
   "execution_count": 14,
   "id": "ebf1de0e-9190-48c7-a3a4-67e22c219fb6",
   "metadata": {},
   "outputs": [
    {
     "data": {
      "text/plain": [
       "2"
      ]
     },
     "execution_count": 14,
     "metadata": {},
     "output_type": "execute_result"
    }
   ],
   "source": [
    "ids.pop() # quita 1"
   ]
  },
  {
   "cell_type": "code",
   "execution_count": 15,
   "id": "172cc2f2-d0d0-4702-adc5-cc0f15b42248",
   "metadata": {},
   "outputs": [
    {
     "data": {
      "text/plain": [
       "{4, 6, 7, 8, 9, 10}"
      ]
     },
     "execution_count": 15,
     "metadata": {},
     "output_type": "execute_result"
    }
   ],
   "source": [
    "ids"
   ]
  },
  {
   "cell_type": "code",
   "execution_count": 16,
   "id": "52f8fd8a-84f4-4b5d-9da5-1b1b264d4cd1",
   "metadata": {},
   "outputs": [],
   "source": [
    "males = set([1,3,5,6,7])"
   ]
  },
  {
   "cell_type": "code",
   "execution_count": 17,
   "id": "56c84382-4a08-4136-9460-3ddaa7372337",
   "metadata": {},
   "outputs": [],
   "source": [
    "females = ids - males"
   ]
  },
  {
   "cell_type": "code",
   "execution_count": 18,
   "id": "68d5ab0f-f32b-4f4f-b0f8-8f8912d8e32d",
   "metadata": {},
   "outputs": [
    {
     "data": {
      "text/plain": [
       "{4, 8, 9, 10}"
      ]
     },
     "execution_count": 18,
     "metadata": {},
     "output_type": "execute_result"
    }
   ],
   "source": [
    "females"
   ]
  },
  {
   "cell_type": "code",
   "execution_count": 19,
   "id": "d7c40d3b-4663-413c-b94e-f955b5018b21",
   "metadata": {},
   "outputs": [
    {
     "data": {
      "text/plain": [
       "set"
      ]
     },
     "execution_count": 19,
     "metadata": {},
     "output_type": "execute_result"
    }
   ],
   "source": [
    "type(females)"
   ]
  },
  {
   "cell_type": "code",
   "execution_count": 20,
   "id": "856ff283-c36b-4c44-9258-ba1e826ea490",
   "metadata": {},
   "outputs": [],
   "source": [
    "everyone = females | males"
   ]
  },
  {
   "cell_type": "code",
   "execution_count": 21,
   "id": "6b9ba16e-2859-42ca-be25-c37d1fb4a8a0",
   "metadata": {},
   "outputs": [
    {
     "data": {
      "text/plain": [
       "{1, 3, 4, 5, 6, 7, 8, 9, 10}"
      ]
     },
     "execution_count": 21,
     "metadata": {},
     "output_type": "execute_result"
    }
   ],
   "source": [
    "everyone"
   ]
  },
  {
   "cell_type": "code",
   "execution_count": 22,
   "id": "2630021f-08c8-4c56-a357-dc548965cc84",
   "metadata": {},
   "outputs": [
    {
     "data": {
      "text/plain": [
       "{1, 3}"
      ]
     },
     "execution_count": 22,
     "metadata": {},
     "output_type": "execute_result"
    }
   ],
   "source": [
    "everyone & set([1,2,3])"
   ]
  },
  {
   "cell_type": "code",
   "execution_count": 23,
   "id": "8c4b8862-1aad-4882-a6ad-7f29d6d9a0a4",
   "metadata": {},
   "outputs": [],
   "source": [
    "word = \"antidisestablimentarianism\""
   ]
  },
  {
   "cell_type": "code",
   "execution_count": 24,
   "id": "e71f8d07-2dbd-444a-92ad-b2f5e1ee3d6d",
   "metadata": {},
   "outputs": [],
   "source": [
    "letters = set(word)"
   ]
  },
  {
   "cell_type": "code",
   "execution_count": 25,
   "id": "97aa7346-49cb-4190-ab6b-13f664a68cbd",
   "metadata": {},
   "outputs": [
    {
     "data": {
      "text/plain": [
       "11"
      ]
     },
     "execution_count": 25,
     "metadata": {},
     "output_type": "execute_result"
    }
   ],
   "source": [
    "len(letters)"
   ]
  },
  {
   "cell_type": "code",
   "execution_count": 26,
   "id": "b15f3f6d-e7ef-4e8f-84f5-47ca32527c77",
   "metadata": {},
   "outputs": [],
   "source": [
    "x={1,2,3}"
   ]
  },
  {
   "cell_type": "code",
   "execution_count": 62,
   "id": "be95f3e9-b587-4f26-adbf-dba5a2f49979",
   "metadata": {},
   "outputs": [],
   "source": [
    "y={2,3,4}"
   ]
  },
  {
   "cell_type": "code",
   "execution_count": 28,
   "id": "cfdd1008-895d-4472-8ae0-37d7234f2d2c",
   "metadata": {},
   "outputs": [
    {
     "data": {
      "text/plain": [
       "set"
      ]
     },
     "execution_count": 28,
     "metadata": {},
     "output_type": "execute_result"
    }
   ],
   "source": [
    "type(y)"
   ]
  },
  {
   "cell_type": "code",
   "execution_count": 29,
   "id": "0eb5eb3c-4b82-463c-9808-5dd6986d7bfd",
   "metadata": {},
   "outputs": [
    {
     "data": {
      "text/plain": [
       "{2, 3}"
      ]
     },
     "execution_count": 29,
     "metadata": {},
     "output_type": "execute_result"
    }
   ],
   "source": [
    "x & y"
   ]
  },
  {
   "cell_type": "code",
   "execution_count": 30,
   "id": "7b1185da-a573-427c-bfa8-4214060f2e96",
   "metadata": {},
   "outputs": [
    {
     "data": {
      "text/plain": [
       "{1, 2, 3, 4}"
      ]
     },
     "execution_count": 30,
     "metadata": {},
     "output_type": "execute_result"
    }
   ],
   "source": [
    "x| y"
   ]
  },
  {
   "cell_type": "code",
   "execution_count": 31,
   "id": "a532191b-302b-442f-b642-251267c270e2",
   "metadata": {},
   "outputs": [
    {
     "data": {
      "text/plain": [
       "{1, 2, 3}"
      ]
     },
     "execution_count": 31,
     "metadata": {},
     "output_type": "execute_result"
    }
   ],
   "source": [
    "x| y - y"
   ]
  },
  {
   "cell_type": "code",
   "execution_count": 32,
   "id": "3ff4550d-b2ac-4cb5-a587-666fb0521743",
   "metadata": {},
   "outputs": [
    {
     "data": {
      "text/plain": [
       "{2, 3, 4}"
      ]
     },
     "execution_count": 32,
     "metadata": {},
     "output_type": "execute_result"
    }
   ],
   "source": [
    "y - x|y"
   ]
  },
  {
   "cell_type": "code",
   "execution_count": 47,
   "id": "cca92c6e-54ba-4033-a2c5-9f54e3032700",
   "metadata": {},
   "outputs": [
    {
     "data": {
      "text/plain": [
       "{2, 3, 4}"
      ]
     },
     "execution_count": 47,
     "metadata": {},
     "output_type": "execute_result"
    }
   ],
   "source": [
    "(x | y) & y"
   ]
  },
  {
   "cell_type": "code",
   "execution_count": 48,
   "id": "86e18765-8023-4fca-9f5b-8118ffd6d67d",
   "metadata": {},
   "outputs": [
    {
     "data": {
      "text/plain": [
       "{2, 3}"
      ]
     },
     "execution_count": 48,
     "metadata": {},
     "output_type": "execute_result"
    }
   ],
   "source": [
    "x & y"
   ]
  },
  {
   "cell_type": "code",
   "execution_count": 51,
   "id": "c974274c-4e68-4f73-8613-53d270892a2a",
   "metadata": {},
   "outputs": [
    {
     "data": {
      "text/plain": [
       "{1, 4}"
      ]
     },
     "execution_count": 51,
     "metadata": {},
     "output_type": "execute_result"
    }
   ],
   "source": [
    "(x | y) - (x &y)\n"
   ]
  },
  {
   "cell_type": "code",
   "execution_count": 54,
   "id": "1c2301b8-8239-4f12-bda4-fedf5b941c8d",
   "metadata": {},
   "outputs": [
    {
     "data": {
      "text/plain": [
       "2"
      ]
     },
     "execution_count": 54,
     "metadata": {},
     "output_type": "execute_result"
    }
   ],
   "source": [
    "y.pop()"
   ]
  },
  {
   "cell_type": "code",
   "execution_count": 55,
   "id": "5010a268-eb86-4df0-94fa-ff5d74658be5",
   "metadata": {},
   "outputs": [
    {
     "data": {
      "text/plain": [
       "{3, 4}"
      ]
     },
     "execution_count": 55,
     "metadata": {},
     "output_type": "execute_result"
    }
   ],
   "source": [
    "y"
   ]
  },
  {
   "cell_type": "code",
   "execution_count": 56,
   "id": "bfaceddc-d2ee-4cf7-b603-6bb73bfd7fc8",
   "metadata": {},
   "outputs": [
    {
     "name": "stdout",
     "output_type": "stream",
     "text": [
      "Object `pop` not found.\n"
     ]
    }
   ],
   "source": [
    "?pop"
   ]
  },
  {
   "cell_type": "code",
   "execution_count": 57,
   "id": "c2500e1f-33a5-4dde-970a-89e03f401dad",
   "metadata": {},
   "outputs": [
    {
     "ename": "SyntaxError",
     "evalue": "invalid syntax (Temp/ipykernel_13104/1173385093.py, line 1)",
     "output_type": "error",
     "traceback": [
      "\u001b[1;36m  File \u001b[1;32m\"C:\\Users\\MCORTI~1\\AppData\\Local\\Temp/ipykernel_13104/1173385093.py\"\u001b[1;36m, line \u001b[1;32m1\u001b[0m\n\u001b[1;33m    help pop\u001b[0m\n\u001b[1;37m         ^\u001b[0m\n\u001b[1;31mSyntaxError\u001b[0m\u001b[1;31m:\u001b[0m invalid syntax\n"
     ]
    }
   ],
   "source": [
    "help pop"
   ]
  },
  {
   "cell_type": "code",
   "execution_count": 58,
   "id": "0942de06-804b-4801-9d96-28224b6d03cd",
   "metadata": {},
   "outputs": [
    {
     "data": {
      "text/plain": [
       "3"
      ]
     },
     "execution_count": 58,
     "metadata": {},
     "output_type": "execute_result"
    }
   ],
   "source": [
    "y.pop()"
   ]
  },
  {
   "cell_type": "code",
   "execution_count": 59,
   "id": "29b066a1-2b86-47dc-b6c9-8dc25a274e05",
   "metadata": {},
   "outputs": [
    {
     "data": {
      "text/plain": [
       "{4}"
      ]
     },
     "execution_count": 59,
     "metadata": {},
     "output_type": "execute_result"
    }
   ],
   "source": [
    "y"
   ]
  },
  {
   "cell_type": "code",
   "execution_count": 61,
   "id": "ee15f54f-cca3-4d42-9886-d475de583e03",
   "metadata": {},
   "outputs": [
    {
     "ename": "TypeError",
     "evalue": "unsupported operand type(s) for +: 'int' and 'set'",
     "output_type": "error",
     "traceback": [
      "\u001b[1;31m---------------------------------------------------------------------------\u001b[0m",
      "\u001b[1;31mTypeError\u001b[0m                                 Traceback (most recent call last)",
      "\u001b[1;32mC:\\Users\\MCORTI~1\\AppData\\Local\\Temp/ipykernel_13104/1145146420.py\u001b[0m in \u001b[0;36m<module>\u001b[1;34m\u001b[0m\n\u001b[1;32m----> 1\u001b[1;33m \u001b[0my\u001b[0m\u001b[1;33m.\u001b[0m\u001b[0mpop\u001b[0m\u001b[1;33m(\u001b[0m\u001b[1;33m)\u001b[0m \u001b[1;33m+\u001b[0m \u001b[1;33m(\u001b[0m\u001b[0mx\u001b[0m \u001b[1;33m|\u001b[0m \u001b[0my\u001b[0m\u001b[1;33m)\u001b[0m \u001b[1;33m-\u001b[0m \u001b[1;33m(\u001b[0m\u001b[0mx\u001b[0m \u001b[1;33m&\u001b[0m\u001b[0my\u001b[0m\u001b[1;33m)\u001b[0m\u001b[1;33m\u001b[0m\u001b[1;33m\u001b[0m\u001b[0m\n\u001b[0m",
      "\u001b[1;31mTypeError\u001b[0m: unsupported operand type(s) for +: 'int' and 'set'"
     ]
    }
   ],
   "source": [
    "y.pop() + (x | y) - (x &y) "
   ]
  },
  {
   "cell_type": "code",
   "execution_count": 63,
   "id": "99221d0f-70fd-4add-92f9-5fa7439fe677",
   "metadata": {},
   "outputs": [
    {
     "data": {
      "text/plain": [
       "1"
      ]
     },
     "execution_count": 63,
     "metadata": {},
     "output_type": "execute_result"
    }
   ],
   "source": [
    "(x | y ).pop()"
   ]
  },
  {
   "cell_type": "code",
   "execution_count": 64,
   "id": "c832a3c6-5464-4f54-a9df-2130f6d24100",
   "metadata": {},
   "outputs": [
    {
     "data": {
      "text/plain": [
       "{2, 3, 4}"
      ]
     },
     "execution_count": 64,
     "metadata": {},
     "output_type": "execute_result"
    }
   ],
   "source": [
    "y & (x|y)"
   ]
  },
  {
   "cell_type": "code",
   "execution_count": 65,
   "id": "48d6a5e3-66ea-4177-b243-e75bb568965f",
   "metadata": {},
   "outputs": [
    {
     "data": {
      "text/plain": [
       "{1, 2, 3, 4}"
      ]
     },
     "execution_count": 65,
     "metadata": {},
     "output_type": "execute_result"
    }
   ],
   "source": [
    "y | (x|y)"
   ]
  },
  {
   "cell_type": "code",
   "execution_count": 68,
   "id": "4e29371a-32db-4a63-b584-d9c81e3b8585",
   "metadata": {},
   "outputs": [
    {
     "data": {
      "text/plain": [
       "{2, 3, 4}"
      ]
     },
     "execution_count": 68,
     "metadata": {},
     "output_type": "execute_result"
    }
   ],
   "source": [
    "y & (x|y)"
   ]
  },
  {
   "cell_type": "code",
   "execution_count": 72,
   "id": "64943d19-e5e4-4f48-aa7c-ed4c5e6e9472",
   "metadata": {},
   "outputs": [
    {
     "data": {
      "text/plain": [
       "{4}"
      ]
     },
     "execution_count": 72,
     "metadata": {},
     "output_type": "execute_result"
    }
   ],
   "source": [
    "y & {4}"
   ]
  },
  {
   "cell_type": "code",
   "execution_count": 73,
   "id": "88d93afd-cc15-42eb-b1eb-58ad82374fab",
   "metadata": {},
   "outputs": [
    {
     "data": {
      "text/plain": [
       "{4}"
      ]
     },
     "execution_count": 73,
     "metadata": {},
     "output_type": "execute_result"
    }
   ],
   "source": [
    "y-x"
   ]
  },
  {
   "cell_type": "code",
   "execution_count": 74,
   "id": "b99a7226-4902-461e-8cc1-189e564f431e",
   "metadata": {},
   "outputs": [],
   "source": [
    "x={1,2,3}"
   ]
  },
  {
   "cell_type": "code",
   "execution_count": 75,
   "id": "fc9e4a7b-598b-46c2-9334-dc8eae107a96",
   "metadata": {},
   "outputs": [],
   "source": [
    "y={2,3,4}"
   ]
  },
  {
   "cell_type": "code",
   "execution_count": 76,
   "id": "d75793ac-3c39-4955-b9a6-4346154a4291",
   "metadata": {},
   "outputs": [
    {
     "data": {
      "text/plain": [
       "False"
      ]
     },
     "execution_count": 76,
     "metadata": {},
     "output_type": "execute_result"
    }
   ],
   "source": [
    "x.issubset(y)"
   ]
  },
  {
   "cell_type": "code",
   "execution_count": 77,
   "id": "0b1cdc47-9f79-47e3-b89d-a6b368c2a22c",
   "metadata": {},
   "outputs": [
    {
     "ename": "AttributeError",
     "evalue": "'set' object has no attribute 'isin'",
     "output_type": "error",
     "traceback": [
      "\u001b[1;31m---------------------------------------------------------------------------\u001b[0m",
      "\u001b[1;31mAttributeError\u001b[0m                            Traceback (most recent call last)",
      "\u001b[1;32mC:\\Users\\MCORTI~1\\AppData\\Local\\Temp/ipykernel_13104/3223666763.py\u001b[0m in \u001b[0;36m<module>\u001b[1;34m\u001b[0m\n\u001b[1;32m----> 1\u001b[1;33m \u001b[0mx\u001b[0m\u001b[1;33m.\u001b[0m\u001b[0misin\u001b[0m\u001b[1;33m(\u001b[0m\u001b[0my\u001b[0m\u001b[1;33m)\u001b[0m\u001b[1;33m\u001b[0m\u001b[1;33m\u001b[0m\u001b[0m\n\u001b[0m",
      "\u001b[1;31mAttributeError\u001b[0m: 'set' object has no attribute 'isin'"
     ]
    }
   ],
   "source": [
    "x.isin(y)"
   ]
  },
  {
   "cell_type": "code",
   "execution_count": 78,
   "id": "3d9cdc64-3928-4c58-a235-c7ea28f58212",
   "metadata": {},
   "outputs": [
    {
     "ename": "AttributeError",
     "evalue": "'set' object has no attribute 'is_in'",
     "output_type": "error",
     "traceback": [
      "\u001b[1;31m---------------------------------------------------------------------------\u001b[0m",
      "\u001b[1;31mAttributeError\u001b[0m                            Traceback (most recent call last)",
      "\u001b[1;32mC:\\Users\\MCORTI~1\\AppData\\Local\\Temp/ipykernel_13104/1811910530.py\u001b[0m in \u001b[0;36m<module>\u001b[1;34m\u001b[0m\n\u001b[1;32m----> 1\u001b[1;33m \u001b[0mx\u001b[0m\u001b[1;33m.\u001b[0m\u001b[0mis_in\u001b[0m\u001b[1;33m(\u001b[0m\u001b[0my\u001b[0m\u001b[1;33m)\u001b[0m\u001b[1;33m\u001b[0m\u001b[1;33m\u001b[0m\u001b[0m\n\u001b[0m",
      "\u001b[1;31mAttributeError\u001b[0m: 'set' object has no attribute 'is_in'"
     ]
    }
   ],
   "source": [
    "x.is_in(y)"
   ]
  },
  {
   "cell_type": "code",
   "execution_count": 79,
   "id": "582212f4-bc8d-4db7-9dd5-2b5a5a402704",
   "metadata": {},
   "outputs": [
    {
     "data": {
      "text/plain": [
       "False"
      ]
     },
     "execution_count": 79,
     "metadata": {},
     "output_type": "execute_result"
    }
   ],
   "source": [
    "x in y"
   ]
  },
  {
   "cell_type": "code",
   "execution_count": null,
   "id": "2f6961e0-d4e9-4ad6-b508-de91848a2b36",
   "metadata": {},
   "outputs": [],
   "source": []
  }
 ],
 "metadata": {
  "kernelspec": {
   "display_name": "Python 3 (ipykernel)",
   "language": "python",
   "name": "python3"
  },
  "language_info": {
   "codemirror_mode": {
    "name": "ipython",
    "version": 3
   },
   "file_extension": ".py",
   "mimetype": "text/x-python",
   "name": "python",
   "nbconvert_exporter": "python",
   "pygments_lexer": "ipython3",
   "version": "3.9.12"
  }
 },
 "nbformat": 4,
 "nbformat_minor": 5
}
